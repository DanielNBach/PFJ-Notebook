{
 "cells": [
  {
   "cell_type": "markdown",
   "metadata": {},
   "source": [
    "\n",
    "# **Python for Jupyter Notebooks: Introduction and Guided Tour for College-Level Science and Engineering Students**\n",
    "\n",
    "_by Hugh W. Hillhouse_\n",
    "<br>_Email: h2@uw.edu, Website: http://faculty.washington.edu/h2/_\n",
    "<br>_GitHub: https://github.com/hwhillhouse, Twitter: https://twitter.com/hughhillhouse_\n",
    "\n",
    "_This notebook is focused on helping college-level science and engineering students (who already have a little experience programming in at least one other language) learn how to use the Python programming language to solve science an engineering problems and to use Jupyter Notebooks to organize and communicate their contributions._\n",
    "\n",
    "_Version 2018-10-23 in Python 3_"
   ]
  },
  {
   "cell_type": "markdown",
   "metadata": {},
   "source": [
    "***\n",
    "_**Instructions** - You are reading a \"Jupyter Notebook.\" This notebook contains three types of cells: (i) \"markdown\" cells, (ii) \"code\" cells, and (iii) output cells. This cell is a markdown cell. You can see the formatting commands (the markdown) and text content by double clicking this cell. Press Shift-Enter to execute the markdown cell and convert it to the original way it looked. Code cells are seen below and are often highlighted and are numbered (just to the left of the cell) in the order they were executed. Code cells contain commands in the Python programming language. You can execute a code cell by selecting it and pressing Shift-Enter. The output (if any) will appear below it in an output cell. There are additional options for running some or all cells in a notebook from the Run menu, but for the purpose of instruction here, please step through each cell in sequence._\n",
    "\n",
    "_You may wonder how a Jupyter Notebook (file extension '.ipynb') relates to a Python file (file extension '.py'). If you copied all the input cells from a Jupyter Notebook file, pasted them into a text file, and saved the text file with a '.py' extension, it would simply be a regular Python file. Thus, a Jupyter Notebook file is just a Python script file that allows you to add a rich layer of content (instructions, documentation, context, equations, figures, etc.) to your code and to be able to store the output of each section of code next to the input that generated it. The result is an incredibly powerful and useful way to step through science and engineering problems, to teach, to learn, to explore, to solve, and to share._\n",
    "<br>\n",
    "<br>"
   ]
  },
  {
   "cell_type": "markdown",
   "metadata": {},
   "source": [
    "<a name=\"0\"></a>\n",
    "Go to: [[TOC]](#0) [[1]](#1) [[2]](#2) [[3]](#3) [[4]](#4) [[5]](#5) [[6]](#6) [[7]](#7) [[8]](#8) [[9]](#9) [[10]](#10) [[11]](#11)   \n",
    "***\n",
    "## **Table of Contents**\n",
    "[1. Introduction to the Python Programming Language](#1)\n",
    "<br>[2. Introduction to Markdown in Jupyter Notebooks](#2)\n",
    "<br>[3. Using Free Open-Source Python Libraries](#3)\n",
    "<br>[4. Plotting and Visualization](#4)\n",
    "<br>[5. Importing and Fitting Data](#5)\n",
    "<br>[6. Matrices and Linear Algebra](#6)\n",
    "<br>[7. Numerical Integration and Differential Equations](#7)\n",
    "<br>[8. Symbolic Algebra and Calculus](#8)\n",
    "<br>[9. Vectors and Vector Calulus](#9)\n",
    "<br>[10. Data Science and Machine Learning](#10)\n",
    "<br>[11. More Exploration](#11)"
   ]
  },
  {
   "cell_type": "markdown",
   "metadata": {},
   "source": [
    "<a name=\"1\"></a>\n",
    "Go to: [[TOC]](#0) [[1]](#1) [[2]](#2) [[3]](#3) [[4]](#4) [[5]](#5) [[6]](#6) [[7]](#7) [[8]](#8) [[9]](#9) [[10]](#10) [[11]](#11)   \n",
    "***"
   ]
  },
  {
   "cell_type": "markdown",
   "metadata": {},
   "source": [
    "### **1. Introduction to the Python Programming Language**"
   ]
  },
  {
   "cell_type": "markdown",
   "metadata": {},
   "source": [
    "_These are some of the most basic commands commands in the Python language involving arithmetic, strings, variable assignments, logical operations, and function definitions. Execute each input code cell to see what it does, and then change them and play around with them to get more familiar. The purpose of this section is not to show you everything, but to show you enough to get you started and whet your appetite for my more. There are lots of links at the end of each section for you to learn more and explore the Python ecosystem of free open-source software libraries and tools._"
   ]
  },
  {
   "cell_type": "markdown",
   "metadata": {},
   "source": [
    "<br>_**Arithmetic:** Simple arithmetic behaves similar to other progamming languages. Note that raising an expression to a power is accomplished with two asterisks not '^'. Also, be sure to use parentheses to control the order of operations if there is any doubt._"
   ]
  },
  {
   "cell_type": "code",
   "execution_count": 26,
   "metadata": {},
   "outputs": [
    {
     "data": {
      "text/plain": [
       "3.0"
      ]
     },
     "execution_count": 26,
     "metadata": {},
     "output_type": "execute_result"
    }
   ],
   "source": [
    "(8+1)**(1/2)"
   ]
  },
  {
   "cell_type": "markdown",
   "metadata": {},
   "source": [
    "_The percent sign is used for modulo (the remainder of a/b is a%b):_ "
   ]
  },
  {
   "cell_type": "code",
   "execution_count": 27,
   "metadata": {},
   "outputs": [
    {
     "data": {
      "text/plain": [
       "2"
      ]
     },
     "execution_count": 27,
     "metadata": {},
     "output_type": "execute_result"
    }
   ],
   "source": [
    "5%3"
   ]
  },
  {
   "cell_type": "markdown",
   "metadata": {},
   "source": [
    "<br>_**Variable Assignments:** One equal sign, 'LHS = RHS', is used to set the value of the LHS to the value of the RHS **at the time that the cell is executed**. It is important to note that any changes to the variables in the RHS that are made later will not effect the value of the LHS, unless the cell is re-executed._"
   ]
  },
  {
   "cell_type": "code",
   "execution_count": 28,
   "metadata": {},
   "outputs": [
    {
     "data": {
      "text/plain": [
       "5"
      ]
     },
     "execution_count": 28,
     "metadata": {},
     "output_type": "execute_result"
    }
   ],
   "source": [
    "a = 5\n",
    "b = a\n",
    "b"
   ]
  },
  {
   "cell_type": "code",
   "execution_count": 29,
   "metadata": {},
   "outputs": [
    {
     "data": {
      "text/plain": [
       "3.14"
      ]
     },
     "execution_count": 29,
     "metadata": {},
     "output_type": "execute_result"
    }
   ],
   "source": [
    "a = 3.14\n",
    "a"
   ]
  },
  {
   "cell_type": "code",
   "execution_count": 30,
   "metadata": {},
   "outputs": [
    {
     "data": {
      "text/plain": [
       "5"
      ]
     },
     "execution_count": 30,
     "metadata": {},
     "output_type": "execute_result"
    }
   ],
   "source": [
    "b"
   ]
  },
  {
   "cell_type": "markdown",
   "metadata": {},
   "source": [
    "<br>_**Boolean Operations:** Two equal signs, 'LHS == RHS', are used as a logical test of equality. There are also many other boolean operators that will return either True or False._  "
   ]
  },
  {
   "cell_type": "code",
   "execution_count": 31,
   "metadata": {},
   "outputs": [
    {
     "data": {
      "text/plain": [
       "False"
      ]
     },
     "execution_count": 31,
     "metadata": {},
     "output_type": "execute_result"
    }
   ],
   "source": [
    "a == b"
   ]
  },
  {
   "cell_type": "code",
   "execution_count": 32,
   "metadata": {},
   "outputs": [
    {
     "data": {
      "text/plain": [
       "True"
      ]
     },
     "execution_count": 32,
     "metadata": {},
     "output_type": "execute_result"
    }
   ],
   "source": [
    "2 < 3"
   ]
  },
  {
   "cell_type": "markdown",
   "metadata": {},
   "source": [
    "_Sequences of logical operations are interpretted as a logical 'and'._"
   ]
  },
  {
   "cell_type": "code",
   "execution_count": 33,
   "metadata": {},
   "outputs": [
    {
     "data": {
      "text/plain": [
       "True"
      ]
     },
     "execution_count": 33,
     "metadata": {},
     "output_type": "execute_result"
    }
   ],
   "source": [
    "4 < b < 6 < (b+2)"
   ]
  },
  {
   "cell_type": "markdown",
   "metadata": {},
   "source": [
    "_Logical operations can also be combined expicitly using 'and', 'or', 'not', 'in', 'not in', 'is', and 'is not'._"
   ]
  },
  {
   "cell_type": "code",
   "execution_count": 34,
   "metadata": {},
   "outputs": [
    {
     "data": {
      "text/plain": [
       "True"
      ]
     },
     "execution_count": 34,
     "metadata": {},
     "output_type": "execute_result"
    }
   ],
   "source": [
    "(b > 6) or (b < 6)"
   ]
  },
  {
   "cell_type": "code",
   "execution_count": 35,
   "metadata": {},
   "outputs": [
    {
     "data": {
      "text/plain": [
       "True"
      ]
     },
     "execution_count": 35,
     "metadata": {},
     "output_type": "execute_result"
    }
   ],
   "source": [
    "5 is not 6"
   ]
  },
  {
   "cell_type": "markdown",
   "metadata": {},
   "source": [
    "<br>_**Strings:** Strings are one type of object that is composed of a sequence of elements. The string is stored as a sequence of individual characters, and the elements of the sequence, or ranges of elements from the sequence, can be directly accessed as shown below. Note that the first element is labeled as element number zero._"
   ]
  },
  {
   "cell_type": "code",
   "execution_count": 36,
   "metadata": {},
   "outputs": [
    {
     "data": {
      "text/plain": [
       "\"Don't Panic!\""
      ]
     },
     "execution_count": 36,
     "metadata": {},
     "output_type": "execute_result"
    }
   ],
   "source": [
    "myString = \"Don't Panic!\"\n",
    "myString"
   ]
  },
  {
   "cell_type": "code",
   "execution_count": 37,
   "metadata": {},
   "outputs": [
    {
     "data": {
      "text/plain": [
       "'D'"
      ]
     },
     "execution_count": 37,
     "metadata": {},
     "output_type": "execute_result"
    }
   ],
   "source": [
    "myString[0]"
   ]
  },
  {
   "cell_type": "code",
   "execution_count": 38,
   "metadata": {},
   "outputs": [
    {
     "data": {
      "text/plain": [
       "'Panic!'"
      ]
     },
     "execution_count": 38,
     "metadata": {},
     "output_type": "execute_result"
    }
   ],
   "source": [
    "myString[6:12]"
   ]
  },
  {
   "cell_type": "markdown",
   "metadata": {},
   "source": [
    "_You can access the last element of a string (or any other type of sequence object) by using '-1' for the index. or use higher negative indices to count backwards._"
   ]
  },
  {
   "cell_type": "code",
   "execution_count": 39,
   "metadata": {},
   "outputs": [
    {
     "data": {
      "text/plain": [
       "'!'"
      ]
     },
     "execution_count": 39,
     "metadata": {},
     "output_type": "execute_result"
    }
   ],
   "source": [
    "myString[-1]"
   ]
  },
  {
   "cell_type": "markdown",
   "metadata": {},
   "source": [
    "<br>_**Lists:** Another type of sequence in Python is a 'list'. The elements of the list are bracketed and separated by commas. The same techniques as used above for strings can be used to access the elements:_"
   ]
  },
  {
   "cell_type": "code",
   "execution_count": 40,
   "metadata": {},
   "outputs": [
    {
     "data": {
      "text/plain": [
       "[1, 2, 3]"
      ]
     },
     "execution_count": 40,
     "metadata": {},
     "output_type": "execute_result"
    }
   ],
   "source": [
    "myList = [ 1, 2, 3]\n",
    "myList"
   ]
  },
  {
   "cell_type": "code",
   "execution_count": 41,
   "metadata": {},
   "outputs": [
    {
     "data": {
      "text/plain": [
       "2"
      ]
     },
     "execution_count": 41,
     "metadata": {},
     "output_type": "execute_result"
    }
   ],
   "source": [
    "myList[1]"
   ]
  },
  {
   "cell_type": "markdown",
   "metadata": {},
   "source": [
    "_The same list can have elements that are of any type and can be edited. For instance, we can create a list that contains a number, a nested list, a function, and a string as separate elements:_"
   ]
  },
  {
   "cell_type": "code",
   "execution_count": 42,
   "metadata": {},
   "outputs": [
    {
     "data": {
      "text/plain": [
       "[0.456, [1, 2, 3], 3, 'Judean Peoples Front']"
      ]
     },
     "execution_count": 42,
     "metadata": {},
     "output_type": "execute_result"
    }
   ],
   "source": [
    "myList = [0.456, myList, len(myList),'Judean Peoples Front']\n",
    "myList"
   ]
  },
  {
   "cell_type": "markdown",
   "metadata": {},
   "source": [
    "_You can edit the list and re-assign elements (especially if the first assignment was a mistake ;)_"
   ]
  },
  {
   "cell_type": "code",
   "execution_count": 43,
   "metadata": {},
   "outputs": [
    {
     "data": {
      "text/plain": [
       "[0.456, [1, 2, 3], 3, 'Peoples Front of Judea']"
      ]
     },
     "execution_count": 43,
     "metadata": {},
     "output_type": "execute_result"
    }
   ],
   "source": [
    "myList[3] = 'Peoples Front of Judea'\n",
    "myList"
   ]
  },
  {
   "cell_type": "markdown",
   "metadata": {},
   "source": [
    "_You can also access specific sub-elements in the list using [element index][subelement index] format. Keep in mind that Python labels the first element as zero:_"
   ]
  },
  {
   "cell_type": "code",
   "execution_count": 44,
   "metadata": {},
   "outputs": [
    {
     "data": {
      "text/plain": [
       "'Judea'"
      ]
     },
     "execution_count": 44,
     "metadata": {},
     "output_type": "execute_result"
    }
   ],
   "source": [
    "myList[3][17:22]"
   ]
  },
  {
   "cell_type": "code",
   "execution_count": 45,
   "metadata": {},
   "outputs": [
    {
     "data": {
      "text/plain": [
       "2"
      ]
     },
     "execution_count": 45,
     "metadata": {},
     "output_type": "execute_result"
    }
   ],
   "source": [
    "myList[1][1]"
   ]
  },
  {
   "cell_type": "markdown",
   "metadata": {},
   "source": [
    "_Lists can also be used to define rectangular numerical lists that function like arrays:_"
   ]
  },
  {
   "cell_type": "code",
   "execution_count": 46,
   "metadata": {},
   "outputs": [
    {
     "data": {
      "text/plain": [
       "[[11, 12, 13], [21, 22, 23]]"
      ]
     },
     "execution_count": 46,
     "metadata": {},
     "output_type": "execute_result"
    }
   ],
   "source": [
    "myArray = [[11,12, 13], [21,22,23]]\n",
    "myArray"
   ]
  },
  {
   "cell_type": "code",
   "execution_count": 47,
   "metadata": {},
   "outputs": [
    {
     "data": {
      "text/plain": [
       "[21, 22, 23]"
      ]
     },
     "execution_count": 47,
     "metadata": {},
     "output_type": "execute_result"
    }
   ],
   "source": [
    "myArray[1]"
   ]
  },
  {
   "cell_type": "code",
   "execution_count": 48,
   "metadata": {},
   "outputs": [
    {
     "data": {
      "text/plain": [
       "23"
      ]
     },
     "execution_count": 48,
     "metadata": {},
     "output_type": "execute_result"
    }
   ],
   "source": [
    "myArray[1][2]"
   ]
  },
  {
   "cell_type": "markdown",
   "metadata": {},
   "source": [
    "_If the the array is rectangular, then 'myArray[r][c]' accesses the element in the r'th row and c'th column._"
   ]
  },
  {
   "cell_type": "markdown",
   "metadata": {},
   "source": [
    "<br>_**Functions:** Some functions are defined in the standard Python library, like the 'print()' function. However, many more common functions used for science and engineering are found in libraries that need to be imported as we will demonstrate below. For now, print!_ "
   ]
  },
  {
   "cell_type": "code",
   "execution_count": 49,
   "metadata": {},
   "outputs": [
    {
     "name": "stdout",
     "output_type": "stream",
     "text": [
      "Always look on the bright side of life.\n"
     ]
    }
   ],
   "source": [
    "print('Always look on the bright side of life.')"
   ]
  },
  {
   "cell_type": "code",
   "execution_count": 50,
   "metadata": {},
   "outputs": [
    {
     "ename": "NameError",
     "evalue": "name 'Print' is not defined",
     "output_type": "error",
     "traceback": [
      "\u001b[1;31m---------------------------------------------------------------\u001b[0m",
      "\u001b[1;31mNameError\u001b[0m                     Traceback (most recent call last)",
      "\u001b[1;32m<ipython-input-50-18fdf6bd7b8b>\u001b[0m in \u001b[0;36m<module>\u001b[1;34m()\u001b[0m\n\u001b[1;32m----> 1\u001b[1;33m \u001b[0mPrint\u001b[0m\u001b[1;33m(\u001b[0m\u001b[1;34m\"If life seems jolly rotten, there's something you've forgotten\"\u001b[0m\u001b[1;33m)\u001b[0m\u001b[1;33m\u001b[0m\u001b[0m\n\u001b[0m",
      "\u001b[1;31mNameError\u001b[0m: name 'Print' is not defined"
     ]
    }
   ],
   "source": [
    "Print(\"If life seems jolly rotten, there's something you've forgotten\")"
   ]
  },
  {
   "cell_type": "markdown",
   "metadata": {},
   "source": [
    "<br>_What have you forgotten? Python is case sensitive. \"Print\" is not the same as \"print.\" When errors occur, a message will appear to describe the error and show where it occurred. Also, note that you can use ' or \" for quotes._"
   ]
  },
  {
   "cell_type": "markdown",
   "metadata": {},
   "source": [
    "<br>_Functions are a vital part of almost any Python code. They are defined as shown below using the 'def' keyword, along with a colon and indentation of the remainder of the function definiton. The object returned by the function (if any) is stated explicity at the end of the function definition._"
   ]
  },
  {
   "cell_type": "code",
   "execution_count": 51,
   "metadata": {},
   "outputs": [],
   "source": [
    "def myFunction(arg1,arg2):\n",
    "   avg = (arg1 + arg2)/2\n",
    "   return avg"
   ]
  },
  {
   "cell_type": "code",
   "execution_count": 52,
   "metadata": {},
   "outputs": [
    {
     "data": {
      "text/plain": [
       "5.5"
      ]
     },
     "execution_count": 52,
     "metadata": {},
     "output_type": "execute_result"
    }
   ],
   "source": [
    "myFunction(4,7)"
   ]
  },
  {
   "cell_type": "markdown",
   "metadata": {},
   "source": [
    "<br>_**\"Anonymous\" Functions:** In Python, an anonymous function is a function that is defined (typically) without a name. While normal functions are defined using the 'def' keyword, in Python anonymous functions are defined using the 'lambda' keyword. Hence, anonymous functions are also called lambda functions. Using the 'def' keyword requires at least two separate lines of code, whereas using the 'lamda' keyword can be used to define a function inline and even used in the same line. Thus, they are commonly used as arguments in higherlevel level functions._\n",
    "\n",
    "_The syntax of an anonymou function in Python is: 'lambda arguments: expression'. Anonymous functions can have any number of arguments but only one expression. The expression is evaluated and returned. Anonymous functions can be used wherever convenient or where ever function objects are required for only that line of code, like in many  integration routines. You can pass the argument to the function implicitly or pass it explicity by treating '(lamda arg: expr)' like the function name. Also, anonymous functions have their own local namespace and cannot access variables other than those in their parameter list and those in the global namespace. Here are a few examples:_"
   ]
  },
  {
   "cell_type": "code",
   "execution_count": 53,
   "metadata": {},
   "outputs": [
    {
     "data": {
      "text/plain": [
       "16"
      ]
     },
     "execution_count": 53,
     "metadata": {},
     "output_type": "execute_result"
    }
   ],
   "source": [
    "(lambda x: x**2) (4)"
   ]
  },
  {
   "cell_type": "code",
   "execution_count": 182,
   "metadata": {},
   "outputs": [
    {
     "data": {
      "image/png": "[encoded data removed]",
      "text/latex": [
       "$$9$$"
      ],
      "text/plain": [
       "9"
      ]
     },
     "execution_count": 182,
     "metadata": {},
     "output_type": "execute_result"
    }
   ],
   "source": [
    "(lambda x, y: x + 2*y) (1,4)"
   ]
  },
  {
   "cell_type": "code",
   "execution_count": 181,
   "metadata": {},
   "outputs": [
    {
     "data": {
      "image/png": "[encoded data removed]",
      "text/latex": [
       "$$9$$"
      ],
      "text/plain": [
       "9"
      ]
     },
     "execution_count": 181,
     "metadata": {},
     "output_type": "execute_result"
    }
   ],
   "source": [
    "f = (lambda x, y: x + 2*y)\n",
    "f(1,4)"
   ]
  },
  {
   "cell_type": "markdown",
   "metadata": {},
   "source": [
    "_Example use with the 'map()' function. The 'map()' function in Python takes in a function and a list. The function is called with each item in the list as the argument to the function, and a new list is returned which contains items returned by that function for each item in the original list._"
   ]
  },
  {
   "cell_type": "code",
   "execution_count": 55,
   "metadata": {},
   "outputs": [
    {
     "name": "stdout",
     "output_type": "stream",
     "text": [
      "[1, 4, 9, 16, 25, 36]\n"
     ]
    }
   ],
   "source": [
    "myList = [1, 2, 3, 4, 5, 6]\n",
    "newList = list(map(lambda x: x**2 , myList))\n",
    "print(newList)"
   ]
  },
  {
   "cell_type": "markdown",
   "metadata": {},
   "source": [
    "_Example use with 'filter()'. The 'filter()' function in Python takes in a function and a list as arguments. The function is called with each items in the list, and a new list is returned which contains items for which the function evaluates to True. Note that 'x%y' returns the remainder from x divided by y._"
   ]
  },
  {
   "cell_type": "code",
   "execution_count": 56,
   "metadata": {},
   "outputs": [
    {
     "name": "stdout",
     "output_type": "stream",
     "text": [
      "[2, 4, 6, 8, 10]\n"
     ]
    }
   ],
   "source": [
    "myList = [1, 2, 3, 4, 5, 6, 7, 8,9, 10]\n",
    "newList = list(filter(lambda x: (x%2 == 0) , myList))\n",
    "print(newList)"
   ]
  },
  {
   "cell_type": "markdown",
   "metadata": {},
   "source": [
    "<br>_**Methods:** A method is like a function, but the methodName is placed to the right of the first argument, called the \"object\" that method operates on, separated by a dot. For instance, 'ObjectName.methodName(otherArgs) uses the method called MethodName with the arugemts 'otherArgs' to operate on the object called \"ObjectName'. Any object in Python has a well defined \"type\" which can be checked using the 'type(objectName)' function. Each type has different methods than can operate on it. Thus, Python has a built-in object oriented programming structure for some things._"
   ]
  },
  {
   "cell_type": "markdown",
   "metadata": {},
   "source": [
    "<br>_**Methods for String Objects** - There are many methods that can be applied to objects that are strings. Here, are two:_"
   ]
  },
  {
   "cell_type": "code",
   "execution_count": 57,
   "metadata": {},
   "outputs": [
    {
     "data": {
      "text/plain": [
       "str"
      ]
     },
     "execution_count": 57,
     "metadata": {},
     "output_type": "execute_result"
    }
   ],
   "source": [
    "myString = \"When you're chewing on life's little grissle, don't grumble, give a whistle.\"\n",
    "type(myString)"
   ]
  },
  {
   "cell_type": "code",
   "execution_count": 58,
   "metadata": {},
   "outputs": [
    {
     "data": {
      "text/plain": [
       "12"
      ]
     },
     "execution_count": 58,
     "metadata": {},
     "output_type": "execute_result"
    }
   ],
   "source": [
    "myString.find(\"chew\")"
   ]
  },
  {
   "cell_type": "code",
   "execution_count": 59,
   "metadata": {},
   "outputs": [
    {
     "data": {
      "text/plain": [
       "\"WhEn you'rE chEwing on lifE's littlE grisslE, don't grumblE, givE a whistlE.\""
      ]
     },
     "execution_count": 59,
     "metadata": {},
     "output_type": "execute_result"
    }
   ],
   "source": [
    "myString.replace(\"e\",\"E\")"
   ]
  },
  {
   "cell_type": "markdown",
   "metadata": {},
   "source": [
    "<br>_**Methods for List Objects** - There are also many methods that can be applied to objects that are lists. One of them is '.append()'_"
   ]
  },
  {
   "cell_type": "code",
   "execution_count": 201,
   "metadata": {},
   "outputs": [
    {
     "name": "stdout",
     "output_type": "stream",
     "text": [
      "Members of the PFJ include:\n",
      "Reg\n",
      "Judith\n",
      "Francis\n"
     ]
    }
   ],
   "source": [
    "myList = [\"Members of the PFJ include:\", \"Reg\", \"Judith\", \"Francis\"]\n",
    "for i in range(len(myList)):\n",
    "    print(myList[i])"
   ]
  },
  {
   "cell_type": "code",
   "execution_count": 202,
   "metadata": {},
   "outputs": [
    {
     "name": "stdout",
     "output_type": "stream",
     "text": [
      "Members of the PFJ include:\n",
      "Reg\n",
      "Judith\n",
      "Francis\n",
      "Loretta\n"
     ]
    }
   ],
   "source": [
    "myList.append(\"Loretta\")\n",
    "for i in range(len(myList)):\n",
    "    print(myList[i])"
   ]
  },
  {
   "cell_type": "markdown",
   "metadata": {},
   "source": [
    "_What if we try to apply \".find()\" to a list?_"
   ]
  },
  {
   "cell_type": "code",
   "execution_count": 62,
   "metadata": {},
   "outputs": [
    {
     "ename": "AttributeError",
     "evalue": "'list' object has no attribute 'find'",
     "output_type": "error",
     "traceback": [
      "\u001b[1;31m---------------------------------------------------------------\u001b[0m",
      "\u001b[1;31mAttributeError\u001b[0m                Traceback (most recent call last)",
      "\u001b[1;32m<ipython-input-62-2d5d11388c5c>\u001b[0m in \u001b[0;36m<module>\u001b[1;34m()\u001b[0m\n\u001b[1;32m----> 1\u001b[1;33m \u001b[0mmyList\u001b[0m\u001b[1;33m.\u001b[0m\u001b[0mfind\u001b[0m\u001b[1;33m(\u001b[0m\u001b[1;34m\"Reg\"\u001b[0m\u001b[1;33m)\u001b[0m\u001b[1;33m\u001b[0m\u001b[0m\n\u001b[0m",
      "\u001b[1;31mAttributeError\u001b[0m: 'list' object has no attribute 'find'"
     ]
    }
   ],
   "source": [
    "myList.find(\"Reg\")"
   ]
  },
  {
   "cell_type": "markdown",
   "metadata": {},
   "source": [
    "_Find() is not defined for objects that are of type equal 'list'._ "
   ]
  },
  {
   "cell_type": "markdown",
   "metadata": {},
   "source": [
    "<br>_**Loops and Conditionals:** Loops and conditionals are the bread and butter of even the most basic programming languages. In Python if-then-else, for, while, etc. work similar to other programming languages. Although, there are a lot of unique features that Python provides for controlling the flow and exceptions. Note that Python uses indentations to set what is in the loop.:_"
   ]
  },
  {
   "cell_type": "code",
   "execution_count": 63,
   "metadata": {},
   "outputs": [
    {
     "name": "stdout",
     "output_type": "stream",
     "text": [
      "[0, 1, 1, 2, 3, 5, 8, 13, 21, 34, 55, 89, 144, 233, 377, 610, 987, 1597]\n"
     ]
    }
   ],
   "source": [
    "# Algorithm to print the first N terms of the Fibonacci Sequence\n",
    "N=18\n",
    "myFibonacci = [0,1]\n",
    "i=1\n",
    "while len(myFibonacci) < N:\n",
    "    myFibonacci.append(myFibonacci[i-1] + myFibonacci[i])\n",
    "    i = i + 1\n",
    "print(myFibonacci)"
   ]
  },
  {
   "cell_type": "markdown",
   "metadata": {},
   "source": [
    "<br>_**For more information about the Python programming language check out the following:**_\n",
    "   - Python for Everyone: https://books.trinket.io/pfe/\n",
    "   - Hitchhiker's Guide to Python: https://docs.python-guide.org/\n",
    "   - Official Python 3 Manual: https://docs.python.org/3/\n",
    "   - Python for Science: http://www.physics.nyu.edu/pine/pymanual/html/pymanMaster.html"
   ]
  },
  {
   "cell_type": "markdown",
   "metadata": {},
   "source": [
    "<br>"
   ]
  },
  {
   "cell_type": "markdown",
   "metadata": {},
   "source": [
    "<a name=\"2\"></a>\n",
    "Go to: [[TOC]](#0) [[1]](#1) [[2]](#2) [[3]](#3) [[4]](#4) [[5]](#5) [[6]](#6) [[7]](#7) [[8]](#8) [[9]](#9) [[10]](#10) [[11]](#11)   \n",
    "***"
   ]
  },
  {
   "cell_type": "markdown",
   "metadata": {},
   "source": [
    "### **2. Introduction to Markdown in Jupyter Notebooks**"
   ]
  },
  {
   "cell_type": "markdown",
   "metadata": {},
   "source": [
    "_Markdown cells contain text or other items to be displayed. When you execute the markdown cell, it generates the output in the same cell as the input markdown. You can toggle whether a cell is a input code cell or a markdown cell by the menu above or use a keyboard shortcut from command-mode. You can toggle into (press Esc) and out of (press Enter) command mode. After toggling into command-mode, press 'M' to change the current cell to Markdown, 'Y' to change it back to code. In addition to headings indicated by #, ##, ###, etc., boldface and italics, and bulleted lists, markdown also provides for numbered lists:_\n",
    "\n",
    "1. First item\n",
    "1. Second item\n",
    "1. Third item"
   ]
  },
  {
   "cell_type": "markdown",
   "metadata": {},
   "source": [
    "_In addition to Markdown script, Jupyter Notebooks also support LaTeX style markdown to display symbols and equations by bracketing the LaTeX markdown script with dollar signs. For instance, greek characters like $\\alpha, \\beta, and \\gamma$ and math and science symbols like $\\hbar, \\nabla, and \\cong$ are readily rendered. See the links below for reference lists of LaTeX markdown corresponding to symbols._\n",
    "\n",
    "_You can also show inline equations and \"display equations\" that are rendered into visually appealing equations. An inline equation for a damped sine function would look like this:  $ f(x) = e^{-x} \\sin(2 \\pi x) $. To see the LaTeX markdown, double click on this the cell, then press Shift-Enter to re-execute it. This what the display equation of integrating cosine squared from zero to $\\pi$ looks like:_\n",
    "\n",
    "$$ \\int_{0}^{\\pi} \\cos^{2}{\\left (x \\right )}\\, dx $$"
   ]
  },
  {
   "cell_type": "markdown",
   "metadata": {},
   "source": [
    "_We can also render vector equations too, like the continuity equation and Navier-Stokes equation used in fluid mechanics:_\n",
    "\n",
    "$$ \\frac{\\partial \\rho}{\\partial t} + \\overrightarrow{\\nabla}\\cdot(\\rho\\overrightarrow{u}) = 0 $$\n",
    "\n",
    "$$ \\rho \\frac{D}{Dt} \\overrightarrow{u}  = \\rho \\overrightarrow{g} - \\overrightarrow{\\nabla p} + \\mu \\nabla^2 \\overrightarrow{u} $$"
   ]
  },
  {
   "cell_type": "markdown",
   "metadata": {},
   "source": [
    "<br>_**For more information on formatting text and equations in Jupyter Notebooks check out:**_\n",
    "   - _List of markdown commands:_\n",
    "      - _Markdown Cheatsheet:_ https://github.com/adam-p/markdown-here/wiki/Markdown-Cheatsheet\n",
    "   - _Lists of LaTeX markdown for specific symbols:_\n",
    "      - _\"Big\" list of symbols:_ https://www.rpi.edu/dept/arc/training/latex/LaTeX_symbols.pdf\n",
    "      - _\"Huge\" list of symbols:_ http://tug.ctan.org/info/symbols/comprehensive/symbols-a4.pdf\n",
    "   - _Mathpix - Generate LaTex markdown from a screen capture or photo of an equation, hand written or typed. You can copy and paste the markdown text into a markdown cell in a Jupyter Notebook, bracketed by single or double dollar symbols for inline or display equations:_\n",
    "      - _Go to:_ https://mathpix.com/"
   ]
  },
  {
   "cell_type": "markdown",
   "metadata": {},
   "source": [
    "<br>"
   ]
  },
  {
   "cell_type": "markdown",
   "metadata": {},
   "source": [
    "<a name=\"3\"></a>\n",
    "Go to: [[TOC]](#0) [[1]](#1) [[2]](#2) [[3]](#3) [[4]](#4) [[5]](#5) [[6]](#6) [[7]](#7) [[8]](#8) [[9]](#9) [[10]](#10) [[11]](#11)   \n",
    "***"
   ]
  },
  {
   "cell_type": "markdown",
   "metadata": {},
   "source": [
    "### **3. Using Free Open-Source Libraries to Supercharge Python**"
   ]
  },
  {
   "cell_type": "markdown",
   "metadata": {},
   "source": [
    "_**Modules** are Python scripts for variable and function definitions that are stored in separate Python srcipt files (.py). You can write your own module, or you can use modules that others have written. Modules can be written such that they group related functions into **submodules**, or even sub-submodules. We use \"dot notation\" to specify which module, submodule, or sub-submodule in the package we want to import into our program. For example, the submodule named 'A.B' designates a submodule named 'B' in a module named 'A'. The main module name 'A' is also commonly used to refer to the entire **package**, often called a **library**. You can think of the library as similar to a filing system where A is the root directory (the main module), and B is a subdirectory (a submodule in the main module). Some of the most popular libraries for scientific and engineering applications are:_"
   ]
  },
  {
   "cell_type": "markdown",
   "metadata": {},
   "source": [
    "- **NumPy** - library of mathematical functions to create, edit, and operate on large, multi-dimensional arrays and matrices. Also has a significant linear algebra functions for matrix operations. It is pronounced as /ˈnʌmpaɪ/ (NUM-pi).\n",
    "- **SciPy** - library of functions for numerical integration, interpolation, fast Fourier transforms, signal processing, image processing, numerical ordinary differential equation solvers, special functions (e.g. 49 different Bessel functions, and virtually every other function that is named), statistical functions, linear algebra functions, and other useful funcitons in science and engineering. \n",
    "- **Matplotlib** - library of functions for plotting using a similar style to that used in MATLAB. The combination of NumPy, SciPy, and Matplotlib provide functionality roughly equivalent to MATLAB!\n",
    "- **SymPy** - library of functions for symbolic computation including arithmetic, algebra, vectors, differentiation, integration, and discrete mathematics. It is capable of formatting and displaying the result of the computations as they appear in textbooks using LaTeX markdown. It provides functionality roughly equivalent to Mathematica or Maple! \n",
    "- **Pandas** - library for data manipulation and analysis that includes data structures and operations for manipulating numerical tables and time series.\n",
    "- **Sklearn** - library for data science and machine learning called \"scikit-learn\" that features various classification, regression, and clustering algorithms including support vector machines, random forests, gradient boosting, k-means and DBSCAN, and is designed to interoperate with the Python numerical and scientific libraries NumPy and SciPy."
   ]
  },
  {
   "cell_type": "markdown",
   "metadata": {},
   "source": [
    "_Note that all these libraries are free (along with Python and Jupyter Notebooks), and thus you will always be able to use your code (unlike MATLAB or Mathematica)._"
   ]
  },
  {
   "cell_type": "markdown",
   "metadata": {},
   "source": [
    "_Before using the functions in any of these libraries they must be imported first. These popular libraries are typically already installed in Python software distributions like Anaconda (recommended for local machine use) and Microsoft Azure (recommended for online use). Even if the libraries are installed, they still must be imported into the program/working memory to use them in your notebook or Python code. So, you can simply start using them by importing them into your notebook. The 'import' command is commonly used with four techniques: (shown below using NumPy as the example library)_"
   ]
  },
  {
   "cell_type": "markdown",
   "metadata": {},
   "source": [
    " - _**Technique 1 - Import a module and use its name (Best Practice)**. For instance, 'import moduleName' will import the main module of the package. It will not import the submodules. To import the submodules, use 'import moduleName.submoduleName'. Variables or functions will be called using the format 'moduleName.functionName()' or 'moduleName.submoduleName.functionName()', respectively._"
   ]
  },
  {
   "cell_type": "code",
   "execution_count": 64,
   "metadata": {},
   "outputs": [],
   "source": [
    "import numpy"
   ]
  },
  {
   "cell_type": "code",
   "execution_count": 65,
   "metadata": {},
   "outputs": [
    {
     "data": {
      "text/plain": [
       "0.8414709848078965"
      ]
     },
     "execution_count": 65,
     "metadata": {},
     "output_type": "execute_result"
    }
   ],
   "source": [
    "numpy.sin(1)"
   ]
  },
  {
   "cell_type": "code",
   "execution_count": 66,
   "metadata": {},
   "outputs": [
    {
     "data": {
      "text/plain": [
       "3.141592653589793"
      ]
     },
     "execution_count": 66,
     "metadata": {},
     "output_type": "execute_result"
    }
   ],
   "source": [
    "numpy.pi"
   ]
  },
  {
   "cell_type": "markdown",
   "metadata": {},
   "source": [
    "_This notation may initially be confusing since 'moduleName.functionName()' can look identical to the use of **Methods** discussed above, for instance, like operating on a list with something like 'myList.append()'. The difference is that 'myList' is of type equal to 'list' while 'moduleName' is of type equal to 'module'. You can check the type of any object._"
   ]
  },
  {
   "cell_type": "code",
   "execution_count": 67,
   "metadata": {},
   "outputs": [
    {
     "data": {
      "text/plain": [
       "module"
      ]
     },
     "execution_count": 67,
     "metadata": {},
     "output_type": "execute_result"
    }
   ],
   "source": [
    "type(numpy)"
   ]
  },
  {
   "cell_type": "code",
   "execution_count": 68,
   "metadata": {},
   "outputs": [
    {
     "data": {
      "text/plain": [
       "list"
      ]
     },
     "execution_count": 68,
     "metadata": {},
     "output_type": "execute_result"
    }
   ],
   "source": [
    "type(myList)"
   ]
  },
  {
   "cell_type": "markdown",
   "metadata": {},
   "source": [
    "-  _**Technique 2 - Import a module and label it differently using the 'as' keyword (Best Practice)**. For instance'import moduleName as myName' syntax. Functions will be called using the format 'myName.functionName()'._"
   ]
  },
  {
   "cell_type": "code",
   "execution_count": 69,
   "metadata": {},
   "outputs": [],
   "source": [
    "import numpy as np"
   ]
  },
  {
   "cell_type": "code",
   "execution_count": 70,
   "metadata": {},
   "outputs": [
    {
     "data": {
      "text/plain": [
       "0.8414709848078965"
      ]
     },
     "execution_count": 70,
     "metadata": {},
     "output_type": "execute_result"
    }
   ],
   "source": [
    "np.sin(1)"
   ]
  },
  {
   "cell_type": "code",
   "execution_count": 71,
   "metadata": {},
   "outputs": [
    {
     "data": {
      "text/plain": [
       "3.141592653589793"
      ]
     },
     "execution_count": 71,
     "metadata": {},
     "output_type": "execute_result"
    }
   ],
   "source": [
    "np.pi"
   ]
  },
  {
   "cell_type": "markdown",
   "metadata": {},
   "source": [
    "- _**Technique 3 - Import a specific variable or function such that one does not need \"dots\" or the module name or submodule name to use it (Good Practice)**. This is implemented as 'from moduleName import functionName' or 'from moduleName import variableName'. Can replace moduleName with moduleName.submoduleName as needed. Functions can then be called using the format 'functionName()'._"
   ]
  },
  {
   "cell_type": "code",
   "execution_count": 72,
   "metadata": {},
   "outputs": [],
   "source": [
    "from numpy import sin\n",
    "from numpy import pi"
   ]
  },
  {
   "cell_type": "code",
   "execution_count": 73,
   "metadata": {},
   "outputs": [
    {
     "data": {
      "text/plain": [
       "0.8414709848078965"
      ]
     },
     "execution_count": 73,
     "metadata": {},
     "output_type": "execute_result"
    }
   ],
   "source": [
    "sin(1)"
   ]
  },
  {
   "cell_type": "code",
   "execution_count": 74,
   "metadata": {},
   "outputs": [
    {
     "data": {
      "text/plain": [
       "3.141592653589793"
      ]
     },
     "execution_count": 74,
     "metadata": {},
     "output_type": "execute_result"
    }
   ],
   "source": [
    "pi"
   ]
  },
  {
   "cell_type": "markdown",
   "metadata": {},
   "source": [
    "- _**Technique 4 - Import a module such that one does not need s \"dot\" or the module name or submodule name to use it (Try to avoid)**. This is implemented as 'from moduleName import *'. Functions and variables are called by their defualt name 'functionName()', without any moduleName associated with it. It can create confusion about where the function comes from and cause unintended variable name or function name conflict with local variables or functions._"
   ]
  },
  {
   "cell_type": "code",
   "execution_count": 75,
   "metadata": {},
   "outputs": [],
   "source": [
    "from numpy import *"
   ]
  },
  {
   "cell_type": "code",
   "execution_count": 76,
   "metadata": {},
   "outputs": [
    {
     "data": {
      "text/plain": [
       "0.8414709848078965"
      ]
     },
     "execution_count": 76,
     "metadata": {},
     "output_type": "execute_result"
    }
   ],
   "source": [
    "sin(1)"
   ]
  },
  {
   "cell_type": "code",
   "execution_count": 77,
   "metadata": {},
   "outputs": [
    {
     "data": {
      "text/plain": [
       "3.141592653589793"
      ]
     },
     "execution_count": 77,
     "metadata": {},
     "output_type": "execute_result"
    }
   ],
   "source": [
    "pi"
   ]
  },
  {
   "cell_type": "markdown",
   "metadata": {},
   "source": [
    "<br>_**Tips and additional information:**_\n",
    "- _Hitchiker's Guide to Python on Modules and Packages:_ https://docs.python-guide.org/writing/structure/#modules"
   ]
  },
  {
   "cell_type": "markdown",
   "metadata": {},
   "source": [
    "<br>"
   ]
  },
  {
   "cell_type": "markdown",
   "metadata": {},
   "source": [
    "<a name=\"4\"></a>\n",
    "Go to: [[TOC]](#0) [[1]](#1) [[2]](#2) [[3]](#3) [[4]](#4) [[5]](#5) [[6]](#6) [[7]](#7) [[8]](#8) [[9]](#9) [[10]](#10) [[11]](#11)   \n",
    "***"
   ]
  },
  {
   "cell_type": "markdown",
   "metadata": {},
   "source": [
    "### **4. Plotting and Visualizing**"
   ]
  },
  {
   "cell_type": "markdown",
   "metadata": {},
   "source": [
    "_The most commonly used library for plotting is Matplotlib. The NumPy, SciPy, and Matplotlib libraries used together make Python roughly equivelant to MATLAB. This is bad news for MATLAB sales, but good news for you being able to develop programs that you will always be able to use. Here, we show some simple examples with Matplotlib, mostly using the pyplot submodule. Plots can be quite complex, and it is often a great start to comb the web for an example that has a similar format to use as a starting point. First, we import the modules, functions, and vairables we will use._"
   ]
  },
  {
   "cell_type": "code",
   "execution_count": 78,
   "metadata": {},
   "outputs": [],
   "source": [
    "import numpy as np\n",
    "from numpy import pi\n",
    "import scipy as sp\n",
    "%matplotlib inline\n",
    "import matplotlib.pyplot as plt"
   ]
  },
  {
   "cell_type": "markdown",
   "metadata": {},
   "source": [
    "<br>_The following is a template for a simple plot using Matplotlib:_"
   ]
  },
  {
   "cell_type": "code",
   "execution_count": 203,
   "metadata": {},
   "outputs": [
    {
     "data": {
      "image/png": "[encoded data removed]",
      "text/plain": [
       "<Figure size 432x288 with 1 Axes>"
      ]
     },
     "metadata": {
      "needs_background": "light"
     },
     "output_type": "display_data"
    }
   ],
   "source": [
    "x = np.linspace(0, 6 , 200)\n",
    "f1 = np.exp(-x)*np.cos(2*pi*x)\n",
    "f2 = np.exp(-x)*np.sin(2*pi*x)\n",
    "\n",
    "plt.plot(x, f1, label='Damped Cosine')\n",
    "plt.plot(x, f2, label='Damped Sine')\n",
    "plt.xlabel('Time [s]')\n",
    "plt.ylabel('Signal [mV]')\n",
    "plt.title(\"Damped Sine and Cosine Waves\")\n",
    "plt.legend()\n",
    "plt.show()"
   ]
  },
  {
   "cell_type": "markdown",
   "metadata": {},
   "source": [
    "_Matplotlib also uses an \"object oriented\" approach to plotting. Here is a template for the same simple plot. Often, more complicated plots can be accomplished more easily using the object oriented syntax:_"
   ]
  },
  {
   "cell_type": "code",
   "execution_count": 80,
   "metadata": {},
   "outputs": [
    {
     "data": {
      "image/png": "[encoded data removed]",
      "text/plain": [
       "<Figure size 432x288 with 1 Axes>"
      ]
     },
     "metadata": {
      "needs_background": "light"
     },
     "output_type": "display_data"
    }
   ],
   "source": [
    "x = np.linspace(0, 6, 200)\n",
    "f1 = np.exp(-x)*np.cos(2*pi*x)\n",
    "f2 = np.exp(-x)*np.sin(2*pi*x)\n",
    "\n",
    "fig, ax = plt.subplots()\n",
    "ax.plot(x,f1,label='Damped Cosine')\n",
    "ax.plot(x,f2,label='Damped Sine')\n",
    "ax.set(xlabel='Time [s]', ylabel='Signal [mV]', title='Damped Sine and Cosine Waves')\n",
    "ax.legend()\n",
    "plt.show()"
   ]
  },
  {
   "cell_type": "markdown",
   "metadata": {},
   "source": [
    "_The SciPy library has most named functions already defined. You can use them at will. A sample of a few Bessel functions, gamma function, Legendre polynomials and Airy functions are plotted below:_"
   ]
  },
  {
   "cell_type": "code",
   "execution_count": 22,
   "metadata": {},
   "outputs": [
    {
     "data": {
      "image/png": "[encoded data removed]",
      "text/plain": [
       "<Figure size 648x576 with 4 Axes>"
      ]
     },
     "metadata": {
      "needs_background": "light"
     },
     "output_type": "display_data"
    }
   ],
   "source": [
    "# Create a Figure\n",
    "fig = plt.figure(1, figsize=(9,8))\n",
    "\n",
    "# Create Arrays for Bessel Functions\n",
    "x = np.linspace(0, 20, 256)\n",
    "j0 = scipy.special.jn(0, x)\n",
    "j1 = scipy.special.jn(1, x)\n",
    "y0 = scipy.special.yn(0, x)\n",
    "y1 = scipy.special.yn(1, x)\n",
    "ax1 = fig.add_subplot(321)\n",
    "ax1.plot(x,j0, x,j1, x,y0, x,y1)\n",
    "ax1.axhline(color=\"grey\", ls=\"--\", zorder=-1)\n",
    "ax1.set_ylim(-1,1)\n",
    "ax1.text(0.5, 0.95,'Bessel', ha='center', va='top', transform = ax1.transAxes)\n",
    "\n",
    "# Gamma Function\n",
    "x = np.linspace(-3.5, 6., 3601)\n",
    "g = scipy.special.gamma(x)\n",
    "g = np.ma.masked_outside(g, -100, 400)\n",
    "ax2 = fig.add_subplot(322)\n",
    "ax2.plot(x,g)\n",
    "ax2.set_xlim(-3.5, 6)\n",
    "ax2.axhline(color=\"grey\", ls=\"--\", zorder=-1)\n",
    "ax2.axvline(color=\"grey\", ls=\"--\", zorder=-1)\n",
    "ax2.set_ylim(-20, 100)\n",
    "ax2.text(0.5, 0.95,'Gamma', ha='center', va='top', transform = ax2.transAxes)\n",
    "\n",
    "# Legendre Polynomials\n",
    "x = np.linspace(-1, 1, 256)\n",
    "lp0 = np.polyval(scipy.special.legendre(0),x)\n",
    "lp1 = np.polyval(scipy.special.legendre(1),x)\n",
    "lp2 = np.polyval(scipy.special.legendre(2),x)\n",
    "lp3 = np.polyval(scipy.special.legendre(3),x)\n",
    "ax3 = fig.add_subplot(323)\n",
    "ax3.plot(x,lp0, x,lp1, x,lp2, x,lp3)\n",
    "ax3.axhline(color=\"grey\", ls=\"--\", zorder=-1)\n",
    "ax3.axvline(color=\"grey\", ls=\"--\", zorder=-1)\n",
    "ax3.set_ylim(-1,1.1)\n",
    "ax3.text(0.5, 0.9,'Legendre', ha='center', va='top', transform = ax3.transAxes)\n",
    "\n",
    "# Airy Function\n",
    "x = np.linspace(-15, 4, 256)\n",
    "ai, aip, bi, bip = scipy.special.airy(x)\n",
    "ax4 = fig.add_subplot(324)\n",
    "ax4.plot(x,ai, x,bi)\n",
    "ax4.axhline(color=\"grey\", ls=\"--\", zorder=-1)\n",
    "ax4.axvline(color=\"grey\", ls=\"--\", zorder=-1)\n",
    "ax4.set_xlim(-15,4)\n",
    "ax4.set_ylim(-0.5,0.6)\n",
    "ax4.text(0.5, 0.95,'Airy', ha='center', va='top', transform = ax4.transAxes)\n",
    "\n",
    "plt.show()"
   ]
  },
  {
   "cell_type": "markdown",
   "metadata": {},
   "source": [
    "<br>_Here is a more complicated plot showing the streamlines for purely shear, rotational, and extensional flow:_"
   ]
  },
  {
   "cell_type": "code",
   "execution_count": 82,
   "metadata": {},
   "outputs": [
    {
     "data": {
      "image/png": "[encoded data removed]",
      "text/plain": [
       "<Figure size 432x360 with 2 Axes>"
      ]
     },
     "metadata": {
      "needs_background": "light"
     },
     "output_type": "display_data"
    }
   ],
   "source": [
    "# Initialize a grid\n",
    "x, y = np.meshgrid(np.arange(-5,5,0.25), np.arange(-5,5,0.25))\n",
    "\n",
    "# Define the velocity field for purely shear flow\n",
    "vx = y\n",
    "vy = 0 * x\n",
    "speed = np.sqrt(vx**2 + vy**2)\n",
    "\n",
    "# Plot the Streamlines\n",
    "fig, ax = plt.subplots(figsize=(6,5))\n",
    "strm = ax.streamplot(x, y, vx, vy, density=1, color=speed, cmap='inferno')\n",
    "ax.axis('equal')\n",
    "cbar = fig.colorbar(strm.lines)\n",
    "cbar.set_label('Magnitude of Velocity')\n",
    "ax.axhline(y=0, color='black')\n",
    "ax.axvline(x=0, color='black')\n",
    "ax.set(xlabel='x-direction', ylabel='y-direction', title='Streamlines for 2D Shear Flow')\n",
    "plt.show()"
   ]
  },
  {
   "cell_type": "code",
   "execution_count": 83,
   "metadata": {},
   "outputs": [
    {
     "data": {
      "image/png": "[encoded data removed]",
      "text/plain": [
       "<Figure size 432x360 with 2 Axes>"
      ]
     },
     "metadata": {
      "needs_background": "light"
     },
     "output_type": "display_data"
    }
   ],
   "source": [
    "# Initialize a grid\n",
    "x, y = np.meshgrid(np.arange(-5,5,0.25), np.arange(-5,5,0.25))\n",
    "\n",
    "# Define the velocity field for rotational flow\n",
    "vx = y\n",
    "vy = - x\n",
    "speed = np.sqrt(vx**2 + vy**2)\n",
    "\n",
    "# Plot the Streamlines\n",
    "fig, ax = plt.subplots(figsize=(6,5))\n",
    "strm = ax.streamplot(x, y, vx, vy, density=1, color=speed, cmap='inferno')\n",
    "ax.axis('equal')\n",
    "cbar = fig.colorbar(strm.lines)\n",
    "cbar.set_label('Magnitude of Velocity')\n",
    "ax.axhline(y=0, color='black')\n",
    "ax.axvline(x=0, color='black')\n",
    "ax.set(xlabel='x-direction', ylabel='y-direction', title='Streamlines for 2D Rotational Flow')\n",
    "plt.show()"
   ]
  },
  {
   "cell_type": "code",
   "execution_count": 84,
   "metadata": {},
   "outputs": [
    {
     "data": {
      "image/png": "[encoded data removed]",
      "text/plain": [
       "<Figure size 432x360 with 2 Axes>"
      ]
     },
     "metadata": {
      "needs_background": "light"
     },
     "output_type": "display_data"
    }
   ],
   "source": [
    "# Initialize a grid\n",
    "x, y = np.meshgrid(np.arange(-5,5,0.25), np.arange(-5,5,0.25))\n",
    "\n",
    "# Define the velocity field for extensional flow\n",
    "vx = y\n",
    "vy = x\n",
    "speed = np.sqrt(vx**2 + vy**2)\n",
    "\n",
    "# Plot the Streamlines\n",
    "fig, ax = plt.subplots(figsize=(6,5))\n",
    "strm = ax.streamplot(x, y, vx, vy, density=1, color=speed, cmap='inferno')\n",
    "ax.axis('equal')\n",
    "cbar = fig.colorbar(strm.lines)\n",
    "cbar.set_label('Magnitude of Velocity')\n",
    "ax.axhline(y=0, color='black')\n",
    "ax.axvline(x=0, color='black')\n",
    "ax.set(xlabel='x-direction', ylabel='y-direction', title='Streamlines for 2D Extensional Flow')\n",
    "plt.show()"
   ]
  },
  {
   "cell_type": "markdown",
   "metadata": {},
   "source": [
    "_Vector field plot of same extensional flow field._"
   ]
  },
  {
   "cell_type": "code",
   "execution_count": 85,
   "metadata": {},
   "outputs": [
    {
     "data": {
      "image/png": "[encoded data removed]",
      "text/plain": [
       "<Figure size 360x360 with 1 Axes>"
      ]
     },
     "metadata": {
      "needs_background": "light"
     },
     "output_type": "display_data"
    }
   ],
   "source": [
    "# Initialize a grid\n",
    "x, y = np.meshgrid(np.arange(-5,5,0.5), np.arange(-5,5,0.5))\n",
    "\n",
    "# Define velocity field\n",
    "vx = y\n",
    "vy = x\n",
    "speed = np.sqrt(vx**2 + vy**2)\n",
    "\n",
    "# Plot\n",
    "fig1, ax = plt.subplots(figsize=(5,5))\n",
    "ax.set(xlabel='x-direction', ylabel='y-direction', title='Vector Field for 2D Extensional Flow')\n",
    "ax.axis('equal')\n",
    "Q = ax.quiver(x, y, vx, vy, speed, cmap='inferno')"
   ]
  },
  {
   "cell_type": "markdown",
   "metadata": {},
   "source": [
    "<br>_**For more information on plotting and visualization, check out:**_\n",
    "   - MatplotLib help in the form of tutorials, documentation, and examples:\n",
    "     - Great little Matplotlib tutorial: https://www.datacamp.com/community/tutorials/matplotlib-tutorial-python\n",
    "     - Official Matplotlib documentation and examples: https://matplotlib.org/tutorials/index.html\n",
    "   - Seaborn - a data visualization library based on matplotlib that provides a (simpler) high-level interface for drawing attractive figures:\n",
    "     - https://seaborn.pydata.org/\n",
    "   - Plot.ly - graphing library that makes interactive and publication-quality graphs. \n",
    "     - https://plot.ly/python/\n",
    "   - Bokeh - a very flexible plotting and visualization library that can make interactive graphs.\n",
    "     - Homepage: https://bokeh.pydata.org/\n",
    "     - Examples: https://bokeh.pydata.org/en/latest/docs/gallery.html\n",
    "   - VisPy - a Python library for interactive scientific visualization that is designed to be fast, scalable, and easy to use.\n",
    "     - https://vyspy.org\n",
    "   - Python Plotting Examples with Code:\n",
    "     - https://python-graph-gallery.com/"
   ]
  },
  {
   "cell_type": "markdown",
   "metadata": {},
   "source": [
    "<br>"
   ]
  },
  {
   "cell_type": "markdown",
   "metadata": {},
   "source": [
    "<a name=\"5\"></a>\n",
    "Go to: [[TOC]](#0) [[1]](#1) [[2]](#2) [[3]](#3) [[4]](#4) [[5]](#5) [[6]](#6) [[7]](#7) [[8]](#8) [[9]](#9) [[10]](#10) [[11]](#11)   \n",
    "***"
   ]
  },
  {
   "cell_type": "markdown",
   "metadata": {},
   "source": [
    "### **5. Importing and Fitting Data**"
   ]
  },
  {
   "cell_type": "markdown",
   "metadata": {},
   "source": [
    "_Import the libraries needed:_"
   ]
  },
  {
   "cell_type": "code",
   "execution_count": 314,
   "metadata": {},
   "outputs": [],
   "source": [
    "import numpy as np\n",
    "from numpy import pi\n",
    "import scipy as sp\n",
    "import pandas as pd\n",
    "%matplotlib inline\n",
    "import matplotlib.pyplot as plt"
   ]
  },
  {
   "cell_type": "markdown",
   "metadata": {},
   "source": [
    "<br>_A simple linear regression:_"
   ]
  },
  {
   "cell_type": "code",
   "execution_count": 205,
   "metadata": {},
   "outputs": [
    {
     "data": {
      "image/png": "[encoded data removed]",
      "text/plain": [
       "<Figure size 432x288 with 1 Axes>"
      ]
     },
     "metadata": {
      "needs_background": "light"
     },
     "output_type": "display_data"
    }
   ],
   "source": [
    "from scipy.stats import linregress\n",
    "\n",
    "# Initialize grid and simulate data with noise\n",
    "x = np.arange(20)\n",
    "f = [x_i + np.random.randn(1)[0] for x_i in x]\n",
    "\n",
    "# Regress simulated data and define the fitline\n",
    "(slope, intercept, rvalue, pvalue, stderr) = linregress(x,f)\n",
    "fitline = slope*np.arange(20) + intercept\n",
    "textstring = '\\n'.join((r'$f(x) = %.2fx + %.2f$' % (slope, intercept), r'$R^2=%.2f$' % (rvalue)))\n",
    "\n",
    "# Plot\n",
    "myFontsize = 13\n",
    "plt.plot(x, f, 'o', label='Simulated data')\n",
    "plt.plot(x, fitline, '-', label='Least-squares fit')\n",
    "plt.xlabel('Independent Variable, x', fontsize=myFontsize)\n",
    "plt.ylabel('Simulated Data, f(x)', fontsize=myFontsize)\n",
    "plt.title(\"Simulated Date with Random Noise and a Linear Fit\",fontsize=myFontsize)\n",
    "plt.legend()\n",
    "plt.text(2, 11, textstring, fontsize=myFontsize)\n",
    "plt.show()"
   ]
  },
  {
   "cell_type": "markdown",
   "metadata": {},
   "source": [
    "<br><a name=\"6\"></a>\n",
    "Go to: [[TOC]](#0) [[1]](#1) [[2]](#2) [[3]](#3) [[4]](#4) [[5]](#5) [[6]](#6) [[7]](#7) [[8]](#8) [[9]](#9) [[10]](#10) [[11]](#11)   \n",
    "***"
   ]
  },
  {
   "cell_type": "markdown",
   "metadata": {},
   "source": [
    "### **6. Matrices and Linear Algebra**"
   ]
  },
  {
   "cell_type": "markdown",
   "metadata": {},
   "source": [
    "_The NumPy library is the one primarily used for matrices and ODEs. Import it any others that may be needed:_"
   ]
  },
  {
   "cell_type": "code",
   "execution_count": 151,
   "metadata": {},
   "outputs": [],
   "source": [
    "import numpy as np\n",
    "import scipy as sp\n",
    "import matplotlib.pyplot as plt"
   ]
  },
  {
   "cell_type": "markdown",
   "metadata": {},
   "source": [
    "<br>_**Linear Algebra:**_ The linear algebra operations are equivalent to MATLAB. See the link below for a page dedicated to teaching users familiar with MATLAB about the differences between the syntax. Some points to keep in mind is that an array is different than a matrix in Python. An array is just a list, but a matrix is a special type of 2D list that keeps its geometric interpretation through operations._"
   ]
  },
  {
   "cell_type": "code",
   "execution_count": 254,
   "metadata": {},
   "outputs": [
    {
     "name": "stdout",
     "output_type": "stream",
     "text": [
      "[[1 2 3]\n",
      " [4 5 6]\n",
      " [7 8 9]]\n",
      "\n",
      "[1 2 3]\n",
      "\n",
      "[4 5 6]\n"
     ]
    }
   ],
   "source": [
    "sq = np.array([[1,2,3], [4,5,6], [7,8,9]])\n",
    "print(sq); print()\n",
    "r = np.array([1,2,3])\n",
    "print(r); print()\n",
    "c = np.transpose(np.array([4,5,6]))\n",
    "print(c)"
   ]
  },
  {
   "cell_type": "code",
   "execution_count": 258,
   "metadata": {},
   "outputs": [
    {
     "name": "stdout",
     "output_type": "stream",
     "text": [
      "[ 4 10 18]\n",
      "\n",
      "[ 4 10 18]\n",
      "\n",
      "32\n",
      "\n",
      "32\n",
      "\n"
     ]
    }
   ],
   "source": [
    "print(r*c); print()\n",
    "print(c*r); print()\n",
    "print(np.matmul(r,c)); print()\n",
    "print(np.matmul(c,r)); print()"
   ]
  },
  {
   "cell_type": "code",
   "execution_count": 259,
   "metadata": {},
   "outputs": [
    {
     "name": "stdout",
     "output_type": "stream",
     "text": [
      "[[1 2 3]\n",
      " [4 5 6]\n",
      " [7 8 9]]\n",
      "\n",
      "[[1 2 3]]\n",
      "\n",
      "[[4]\n",
      " [5]\n",
      " [6]]\n"
     ]
    }
   ],
   "source": [
    "sq = np.matrix([[1,2,3], [4,5,6], [7,8,9]])\n",
    "print(sq); print()\n",
    "r = np.matrix([1,2,3])\n",
    "print(r); print()\n",
    "c = np.transpose(np.matrix([4,5,6]))\n",
    "print(c)"
   ]
  },
  {
   "cell_type": "code",
   "execution_count": 260,
   "metadata": {},
   "outputs": [
    {
     "name": "stdout",
     "output_type": "stream",
     "text": [
      "[[32]]\n",
      "\n",
      "[[ 4  8 12]\n",
      " [ 5 10 15]\n",
      " [ 6 12 18]]\n",
      "\n",
      "[[32]]\n",
      "\n",
      "[[ 4  8 12]\n",
      " [ 5 10 15]\n",
      " [ 6 12 18]]\n",
      "\n"
     ]
    }
   ],
   "source": [
    "print(r*c); print()\n",
    "print(c*r); print()\n",
    "print(np.matmul(r,c)); print()\n",
    "print(np.matmul(c,r)); print()"
   ]
  },
  {
   "cell_type": "code",
   "execution_count": 261,
   "metadata": {},
   "outputs": [
    {
     "name": "stdout",
     "output_type": "stream",
     "text": [
      "[[1 2 3]\n",
      " [4 5 6]\n",
      " [7 8 9]]\n"
     ]
    }
   ],
   "source": [
    "a = np.matrix([[1,2,3], [4,5,6], [7,8,9]])\n",
    "print(a)"
   ]
  },
  {
   "cell_type": "code",
   "execution_count": 262,
   "metadata": {},
   "outputs": [
    {
     "name": "stdout",
     "output_type": "stream",
     "text": [
      "[[1 4 7]\n",
      " [2 5 8]\n",
      " [3 6 9]]\n"
     ]
    }
   ],
   "source": [
    "at = a.transpose()\n",
    "print(at)"
   ]
  },
  {
   "cell_type": "markdown",
   "metadata": {},
   "source": [
    "<br>_Create symmetric and anti-symmetric matrices._"
   ]
  },
  {
   "cell_type": "code",
   "execution_count": 263,
   "metadata": {},
   "outputs": [
    {
     "name": "stdout",
     "output_type": "stream",
     "text": [
      "[[1. 3. 5.]\n",
      " [3. 5. 7.]\n",
      " [5. 7. 9.]]\n",
      "\n",
      "[[ 0. -1. -2.]\n",
      " [ 1.  0. -1.]\n",
      " [ 2.  1.  0.]]\n"
     ]
    }
   ],
   "source": [
    "sa = (a+at)/2\n",
    "print(sa)\n",
    "print()\n",
    "asa = (a-at)/2\n",
    "print(asa)"
   ]
  },
  {
   "cell_type": "code",
   "execution_count": 289,
   "metadata": {},
   "outputs": [
    {
     "name": "stdout",
     "output_type": "stream",
     "text": [
      "[ 0.+2.45j  0.-2.45j -0.+0.j  ]\n"
     ]
    }
   ],
   "source": [
    "print(np.matrix.round(np.linalg.eig(asa)[0],2))"
   ]
  },
  {
   "cell_type": "markdown",
   "metadata": {},
   "source": [
    "<br>_Matrix Inversion_"
   ]
  },
  {
   "cell_type": "code",
   "execution_count": 299,
   "metadata": {},
   "outputs": [
    {
     "name": "stdout",
     "output_type": "stream",
     "text": [
      "[[1 2]\n",
      " [3 4]]\n",
      "\n",
      "[[-2.   1. ]\n",
      " [ 1.5 -0.5]]\n"
     ]
    }
   ],
   "source": [
    "a = np.matrix([[1,2], [3,4]])\n",
    "print(a); print()\n",
    "print(np.linalg.inv(a))"
   ]
  },
  {
   "cell_type": "markdown",
   "metadata": {},
   "source": [
    "<br>_Solving Linear Equations_"
   ]
  },
  {
   "cell_type": "code",
   "execution_count": 301,
   "metadata": {},
   "outputs": [
    {
     "name": "stdout",
     "output_type": "stream",
     "text": [
      "[[ 0.13333333]\n",
      " [-3.26666667]\n",
      " [ 3.8       ]]\n"
     ]
    }
   ],
   "source": [
    "a = np.matrix([[1,2,3], [4,5,6],[7,8,9]])\n",
    "y = np.matrix([[5.], [7.], [9.]])\n",
    "print(np.linalg.solve(a, y))"
   ]
  },
  {
   "cell_type": "markdown",
   "metadata": {},
   "source": [
    "<br>_Special Matrices_"
   ]
  },
  {
   "cell_type": "code",
   "execution_count": 303,
   "metadata": {},
   "outputs": [
    {
     "name": "stdout",
     "output_type": "stream",
     "text": [
      "[[1. 0. 0. ... 0. 0. 0.]\n",
      " [0. 1. 0. ... 0. 0. 0.]\n",
      " [0. 0. 1. ... 0. 0. 0.]\n",
      " ...\n",
      " [0. 0. 0. ... 1. 0. 0.]\n",
      " [0. 0. 0. ... 0. 1. 0.]\n",
      " [0. 0. 0. ... 0. 0. 1.]]\n"
     ]
    }
   ],
   "source": [
    "I = np.eye(50)  # a unit 50 x 50 matrix, \"eye\" represents \"I\"\n",
    "print(I)"
   ]
  },
  {
   "cell_type": "code",
   "execution_count": 305,
   "metadata": {},
   "outputs": [
    {
     "data": {
      "image/png": "[encoded data removed]",
      "text/latex": [
       "$$50.0$$"
      ],
      "text/plain": [
       "50.0"
      ]
     },
     "execution_count": 305,
     "metadata": {},
     "output_type": "execute_result"
    }
   ],
   "source": [
    "np.trace(I)"
   ]
  },
  {
   "cell_type": "markdown",
   "metadata": {},
   "source": [
    "<br><a name=\"7\"></a>\n",
    "Go to: [[TOC]](#0) [[1]](#1) [[2]](#2) [[3]](#3) [[4]](#4) [[5]](#5) [[6]](#6) [[7]](#7) [[8]](#8) [[9]](#9) [[10]](#10) [[11]](#11)   \n",
    "***"
   ]
  },
  {
   "cell_type": "markdown",
   "metadata": {},
   "source": [
    "## **7. Numerical Integration and Differential Equations**"
   ]
  },
  {
   "cell_type": "markdown",
   "metadata": {},
   "source": [
    "_**Numerical Integration:**_"
   ]
  },
  {
   "cell_type": "code",
   "execution_count": 148,
   "metadata": {},
   "outputs": [],
   "source": [
    "import scipy.integrate as integrate"
   ]
  },
  {
   "cell_type": "code",
   "execution_count": 166,
   "metadata": {},
   "outputs": [
    {
     "data": {
      "image/png": "[encoded data removed]",
      "text/latex": [
       "$$\\left ( 2.0, \\quad 2.220446049250313e-14\\right )$$"
      ],
      "text/plain": [
       "(2.0, 2.220446049250313e-14)"
      ]
     },
     "execution_count": 166,
     "metadata": {},
     "output_type": "execute_result"
    }
   ],
   "source": [
    "f = lambda x: sp.sin(x)\n",
    "integrate.quad(f,0, pi)"
   ]
  },
  {
   "cell_type": "markdown",
   "metadata": {},
   "source": [
    "In the above function call above, 'integrate' is a submodule of the SciPy package and 'quad' is a function in the submodule (from the Fortran library QUADPACK) for numerical intewgration; 'lambda x' basically defines a dummy variable that will be integrated over; 'sp.sin(x)' is just the trigonometric sine function (ote that sine, cosine, and some other functions are included in multiple packages like math, NumPy, and SciPy). The result is reported as a type sequence of elements called a 'tuple'. In this case, the first element is the result of the integration, and the second element is the estimate of the error. If we are only interested in the first element of the tuple, we can use brackets to address the first or second element, keeping in mind that Python refers to the first element as the zeroth element. Note that we had to import the main module and submodule separately."
   ]
  },
  {
   "cell_type": "code",
   "execution_count": 150,
   "metadata": {},
   "outputs": [
    {
     "data": {
      "image/png": "[encoded data removed]",
      "text/latex": [
       "$$2.0$$"
      ],
      "text/plain": [
       "2.0"
      ]
     },
     "execution_count": 150,
     "metadata": {},
     "output_type": "execute_result"
    }
   ],
   "source": [
    "f = lambda x: sp.sin(x)\n",
    "integrate.quad(f,0, pi)[0]"
   ]
  },
  {
   "cell_type": "markdown",
   "metadata": {},
   "source": [
    "<br>_**For more information on NumPy and SciPy, check out their documentation at:**_\n",
    "- NumPy User Guide and Function Reference: https://docs.scipy.org/doc/numpy/\n",
    "- NumPy for MATLAB users: https://docs.scipy.org/doc/numpy/user/numpy-for-matlab-users.html\n",
    "- SciPy User Guide and Function Refere: https://docs.scipy.org/doc/scipy/reference/"
   ]
  },
  {
   "cell_type": "markdown",
   "metadata": {},
   "source": [
    "<br>_**Finite Difference and Finite Element Codes in Python:**_\n",
    "- _If you are interested in numerically solving ODEs and PDEs on arbitrary domains (without using COMSOL) using Finite Difference Methods, check out the nice book written by Hans Petter Langtangen on using finite difference methods in Python to solve ODEs and PDE:_\n",
    "     - PDF of the book: https://hplgit.github.io/fdm-book/doc/pub/book/pdf/fdm-book-4print-2up.pdf\n",
    "     - Python files: https://github.com/hplgit/fdm-book/tree/master/src\n",
    "- _Finite difference methods are relatively easy, but not usually the fastest or most efficicient algorithms. More advanced methods are:_\n",
    "     - Finite Element Method using SfePy: http://sfepy.org/doc-devel/index.html\n",
    "     - Spectral Method using Dedalus: http://dedalus-project.org/"
   ]
  },
  {
   "cell_type": "markdown",
   "metadata": {},
   "source": [
    "<br><a name=\"8\"></a>\n",
    "Go to: [[TOC]](#0) [[1]](#1) [[2]](#2) [[3]](#3) [[4]](#4) [[5]](#5) [[6]](#6) [[7]](#7) [[8]](#8) [[9]](#9) [[10]](#10) [[11]](#11)   \n",
    "***"
   ]
  },
  {
   "cell_type": "markdown",
   "metadata": {},
   "source": [
    "### **8. Symbolic Algebra and Calculus**"
   ]
  },
  {
   "cell_type": "markdown",
   "metadata": {},
   "source": [
    "_The most commonly used library for symbolic computation in Python is SymPy. It has functions for symbolic arithmetic, algebra, differentiation, integration, and vector calculus. It is capable of formatting and displaying the results of computations as they appear in textbooks using LaTeX script._"
   ]
  },
  {
   "cell_type": "markdown",
   "metadata": {},
   "source": [
    "_Numerical computation returns a number:_"
   ]
  },
  {
   "cell_type": "code",
   "execution_count": 106,
   "metadata": {},
   "outputs": [
    {
     "data": {
      "text/plain": [
       "1.7320508075688772"
      ]
     },
     "execution_count": 106,
     "metadata": {},
     "output_type": "execute_result"
    }
   ],
   "source": [
    "np.sqrt(3)"
   ]
  },
  {
   "cell_type": "markdown",
   "metadata": {},
   "source": [
    "_However, if we import the SymPy library, we can keep terms in symbolic form. Further, we can use the init printing function to output rendered equations:_"
   ]
  },
  {
   "cell_type": "code",
   "execution_count": 108,
   "metadata": {},
   "outputs": [],
   "source": [
    "import sympy as sy\n",
    "from sympy import symbols, exp, log, sqrt\n",
    "from sympy import init_printing\n",
    "init_printing()"
   ]
  },
  {
   "cell_type": "code",
   "execution_count": 109,
   "metadata": {},
   "outputs": [
    {
     "data": {
      "image/png": "[encoded data removed]",
      "text/latex": [
       "$$\\sqrt{3}$$"
      ],
      "text/plain": [
       "√3"
      ]
     },
     "execution_count": 109,
     "metadata": {},
     "output_type": "execute_result"
    }
   ],
   "source": [
    "sy.sqrt(3)"
   ]
  },
  {
   "cell_type": "markdown",
   "metadata": {},
   "source": [
    "_Python will automatically simplify the expression:_"
   ]
  },
  {
   "cell_type": "code",
   "execution_count": 110,
   "metadata": {},
   "outputs": [
    {
     "data": {
      "image/png": "[encoded data removed]",
      "text/latex": [
       "$$2 \\sqrt{2}$$"
      ],
      "text/plain": [
       "2⋅√2"
      ]
     },
     "execution_count": 110,
     "metadata": {},
     "output_type": "execute_result"
    }
   ],
   "source": [
    "sy.sqrt(8)"
   ]
  },
  {
   "cell_type": "markdown",
   "metadata": {},
   "source": [
    "<br>_**Symbols:** SymPy defines objects called \"symbols.\" They do not behave like Python variables once they are defined._"
   ]
  },
  {
   "cell_type": "code",
   "execution_count": 111,
   "metadata": {},
   "outputs": [
    {
     "data": {
      "image/png": "[encoded data removed]",
      "text/latex": [
       "$$5 x + 2 y - z$$"
      ],
      "text/plain": [
       "5⋅x + 2⋅y - z"
      ]
     },
     "execution_count": 111,
     "metadata": {},
     "output_type": "execute_result"
    }
   ],
   "source": [
    "x, y, z = sy.symbols('x y z')\n",
    "G = 2*x + 3*x + 2*y - z\n",
    "G"
   ]
  },
  {
   "cell_type": "code",
   "execution_count": 112,
   "metadata": {},
   "outputs": [
    {
     "data": {
      "image/png": "[encoded data removed]",
      "text/latex": [
       "$$5 x + 2 y - z$$"
      ],
      "text/plain": [
       "5⋅x + 2⋅y - z"
      ]
     },
     "execution_count": 112,
     "metadata": {},
     "output_type": "execute_result"
    }
   ],
   "source": [
    "x = 2\n",
    "G"
   ]
  },
  {
   "cell_type": "markdown",
   "metadata": {},
   "source": [
    "_Note that the expression 'G' is still symbolic with respect to x. If we want to plug in the value of 2 for x, we must use the \".subs()\" operation._"
   ]
  },
  {
   "cell_type": "code",
   "execution_count": 113,
   "metadata": {},
   "outputs": [
    {
     "data": {
      "image/png": "[encoded data removed]",
      "text/latex": [
       "$$2 y - z + 10$$"
      ],
      "text/plain": [
       "2⋅y - z + 10"
      ]
     },
     "execution_count": 113,
     "metadata": {},
     "output_type": "execute_result"
    }
   ],
   "source": [
    "x, y, z = sy.symbols('x y z')\n",
    "G.subs(x,2)"
   ]
  },
  {
   "cell_type": "code",
   "execution_count": 114,
   "metadata": {},
   "outputs": [
    {
     "data": {
      "image/png": "[encoded data removed]",
      "text/latex": [
       "$$5 x + 2 y - z$$"
      ],
      "text/plain": [
       "5⋅x + 2⋅y - z"
      ]
     },
     "execution_count": 114,
     "metadata": {},
     "output_type": "execute_result"
    }
   ],
   "source": [
    "G"
   ]
  },
  {
   "cell_type": "markdown",
   "metadata": {},
   "source": [
    "_Note that the expression G is still fully symbolic with respect to 'x'_."
   ]
  },
  {
   "cell_type": "markdown",
   "metadata": {},
   "source": [
    "<br>_**Equations:**  Recall that '==' is Python's operator to test equality. If we want to define an equation with a symbolic LHS and RHS, we need to use the Eq() function in SymPy._"
   ]
  },
  {
   "cell_type": "code",
   "execution_count": 115,
   "metadata": {},
   "outputs": [
    {
     "data": {
      "text/plain": [
       "False"
      ]
     },
     "execution_count": 115,
     "metadata": {},
     "output_type": "execute_result"
    }
   ],
   "source": [
    "x**2 + 1 == 4"
   ]
  },
  {
   "cell_type": "code",
   "execution_count": 116,
   "metadata": {},
   "outputs": [
    {
     "data": {
      "image/png": "[encoded data removed]",
      "text/latex": [
       "$$x^{2} + 1 = 4$$"
      ],
      "text/plain": [
       " 2        \n",
       "x  + 1 = 4"
      ]
     },
     "execution_count": 116,
     "metadata": {},
     "output_type": "execute_result"
    }
   ],
   "source": [
    "G = sy.Eq(x**2+1, 4)\n",
    "G"
   ]
  },
  {
   "cell_type": "markdown",
   "metadata": {},
   "source": [
    "<br>_**Symbolic Differentiation:**_"
   ]
  },
  {
   "cell_type": "code",
   "execution_count": 117,
   "metadata": {},
   "outputs": [
    {
     "data": {
      "image/png": "[encoded data removed]",
      "text/latex": [
       "$$\\frac{\\partial}{\\partial x}\\left(5 x^{2} + 2 y - z\\right) = 10 x$$"
      ],
      "text/plain": [
       "∂ ⎛   2          ⎞       \n",
       "──⎝5⋅x  + 2⋅y - z⎠ = 10⋅x\n",
       "∂x                       "
      ]
     },
     "execution_count": 117,
     "metadata": {},
     "output_type": "execute_result"
    }
   ],
   "source": [
    "x, y, z = sy.symbols('x y z')\n",
    "G = 5*x**2 + 2*y - z\n",
    "sy.Eq(sy.Derivative(G,x), sy.diff(G,x))"
   ]
  },
  {
   "cell_type": "code",
   "execution_count": 118,
   "metadata": {},
   "outputs": [
    {
     "data": {
      "image/png": "[encoded data removed]",
      "text/latex": [
       "$$\\frac{\\partial}{\\partial y}\\left(5 x^{2} + 2 y - z\\right) = 2$$"
      ],
      "text/plain": [
       "∂ ⎛   2          ⎞    \n",
       "──⎝5⋅x  + 2⋅y - z⎠ = 2\n",
       "∂y                    "
      ]
     },
     "execution_count": 118,
     "metadata": {},
     "output_type": "execute_result"
    }
   ],
   "source": [
    "sy.Eq(sy.Derivative(G,y), sy.diff(G,y))"
   ]
  },
  {
   "cell_type": "markdown",
   "metadata": {},
   "source": [
    "<br>_**Symbolic Integration:** Note that for indefinite integration, the constant of integration is not added, and must be added by the user._"
   ]
  },
  {
   "cell_type": "code",
   "execution_count": 119,
   "metadata": {},
   "outputs": [
    {
     "data": {
      "image/png": "[encoded data removed]",
      "text/latex": [
       "$$\\int x^{2}\\, dx = \\frac{x^{3}}{3}$$"
      ],
      "text/plain": [
       "⌠          3\n",
       "⎮  2      x \n",
       "⎮ x  dx = ──\n",
       "⌡         3 "
      ]
     },
     "execution_count": 119,
     "metadata": {},
     "output_type": "execute_result"
    }
   ],
   "source": [
    "x, y, z = sy.symbols('x y z')\n",
    "G = x**2\n",
    "sy.Eq(sy.Integral(G,x), sy.integrate(G,x))"
   ]
  },
  {
   "cell_type": "code",
   "execution_count": 120,
   "metadata": {},
   "outputs": [
    {
     "data": {
      "image/png": "[encoded data removed]",
      "text/latex": [
       "$$\\int_{0}^{2} x^{2}\\, dx = \\frac{8}{3}$$"
      ],
      "text/plain": [
       "2            \n",
       "⌠            \n",
       "⎮  2         \n",
       "⎮ x  dx = 8/3\n",
       "⌡            \n",
       "0            "
      ]
     },
     "execution_count": 120,
     "metadata": {},
     "output_type": "execute_result"
    }
   ],
   "source": [
    "G = x**2\n",
    "sy.Eq(sy.Integral(G,(x,0,2)), sy.integrate(G,(x,0,2)))"
   ]
  },
  {
   "cell_type": "code",
   "execution_count": 121,
   "metadata": {},
   "outputs": [
    {
     "data": {
      "image/png": "[encoded data removed]",
      "text/latex": [
       "$$\\int \\frac{1}{x}\\, dx = \\log{\\left (x \\right )}$$"
      ],
      "text/plain": [
       "⌠              \n",
       "⎮ 1            \n",
       "⎮ ─ dx = log(x)\n",
       "⎮ x            \n",
       "⌡              "
      ]
     },
     "execution_count": 121,
     "metadata": {},
     "output_type": "execute_result"
    }
   ],
   "source": [
    "G = 1/x\n",
    "sy.Eq(sy.Integral(G,x), sy.integrate(G,x))"
   ]
  },
  {
   "cell_type": "code",
   "execution_count": 122,
   "metadata": {},
   "outputs": [
    {
     "data": {
      "image/png": "[encoded data removed]",
      "text/latex": [
       "$$\\int_{0}^{\\pi} \\left(x^{2} + \\sin{\\left (x \\right )}\\right)\\, dx = 2 + \\frac{\\pi^{3}}{3}$$"
      ],
      "text/plain": [
       "π                          \n",
       "⌠                         3\n",
       "⎮ ⎛ 2         ⎞          π \n",
       "⎮ ⎝x  + sin(x)⎠ dx = 2 + ──\n",
       "⌡                        3 \n",
       "0                          "
      ]
     },
     "execution_count": 122,
     "metadata": {},
     "output_type": "execute_result"
    }
   ],
   "source": [
    "G = x**2 + sy.sin(x)\n",
    "sy.Eq(sy.Integral(G,(x, 0, sy.pi)), sy.integrate(G,(x,0,sy.pi)))"
   ]
  },
  {
   "cell_type": "markdown",
   "metadata": {},
   "source": [
    "<br>_**Laplace Transforms:** The forward and inverse Laplace transforms are:_\n",
    "\n",
    "$ \\;\\;\\; F(s) = \\int_0^\\infty e^{-st} f(t) \\mathrm{d}t $\n",
    "\n",
    "$ \\;\\;\\; f(t) = \\frac{1}{2\\pi i} \\int_{c-i\\infty}^{c+i\\infty} e^{st} F(s) \\mathrm{d}s $\n"
   ]
  },
  {
   "cell_type": "code",
   "execution_count": 123,
   "metadata": {},
   "outputs": [],
   "source": [
    "from sympy.integrals.transforms import laplace_transform\n",
    "from sympy.integrals.transforms import inverse_laplace_transform\n",
    "from sympy.abc import t, s, a\n",
    "from sympy import Symbol"
   ]
  },
  {
   "cell_type": "code",
   "execution_count": 124,
   "metadata": {},
   "outputs": [
    {
     "data": {
      "image/png": "[encoded data removed]",
      "text/latex": [
       "$$\\left ( \\frac{s^{- a}}{s} \\Gamma{\\left(a + 1 \\right)}, \\quad 0, \\quad - \\Re{\\left(a\\right)} < 1\\right )$$"
      ],
      "text/plain": [
       "⎛ -a                        ⎞\n",
       "⎜s  ⋅Γ(a + 1)               ⎟\n",
       "⎜────────────, 0, -re(a) < 1⎟\n",
       "⎝     s                     ⎠"
      ]
     },
     "execution_count": 124,
     "metadata": {},
     "output_type": "execute_result"
    }
   ],
   "source": [
    "ft = t**a\n",
    "Fs = laplace_transform(ft, t, s)\n",
    "Fs"
   ]
  },
  {
   "cell_type": "code",
   "execution_count": 125,
   "metadata": {},
   "outputs": [
    {
     "data": {
      "image/png": "[encoded data removed]",
      "text/latex": [
       "$$t^{a} \\theta\\left(t\\right)$$"
      ],
      "text/plain": [
       " a             \n",
       "t ⋅Heaviside(t)"
      ]
     },
     "execution_count": 125,
     "metadata": {},
     "output_type": "execute_result"
    }
   ],
   "source": [
    "a = Symbol('a', positive=True)\n",
    "inverse_laplace_transform(exp(-a*s)/s, s, t)\n",
    "inverse_laplace_transform(Fs[0], s, t)"
   ]
  },
  {
   "cell_type": "markdown",
   "metadata": {},
   "source": [
    "<br>_**Fourier Transforms:** The forward and inverse Fourier transforms are:_\n",
    "\n",
    "$ \\;\\;\\; F(k) = \\int_{-\\infty}^\\infty f(x) e^{-2\\pi i x k} \\mathrm{d}x $\n",
    "\n",
    "$ \\;\\;\\; f(x) = \\int_{-\\infty}^\\infty F(k) e^{2\\pi i x k} \\mathrm{d}k $"
   ]
  },
  {
   "cell_type": "code",
   "execution_count": 126,
   "metadata": {},
   "outputs": [],
   "source": [
    "from sympy.integrals.transforms import fourier_transform\n",
    "from sympy.integrals.transforms import inverse_fourier_transform\n",
    "from sympy.abc import x, k"
   ]
  },
  {
   "cell_type": "code",
   "execution_count": 127,
   "metadata": {},
   "outputs": [
    {
     "data": {
      "image/png": "[encoded data removed]",
      "text/latex": [
       "$$\\sqrt{\\pi} e^{- \\pi^{2} k^{2}}$$"
      ],
      "text/plain": [
       "      2  2\n",
       "    -π ⋅k \n",
       "√π⋅ℯ      "
      ]
     },
     "execution_count": 127,
     "metadata": {},
     "output_type": "execute_result"
    }
   ],
   "source": [
    "fx = exp(-x**2)\n",
    "Fk = fourier_transform(fx, x, k)\n",
    "Fk"
   ]
  },
  {
   "cell_type": "code",
   "execution_count": 128,
   "metadata": {},
   "outputs": [
    {
     "data": {
      "image/png": "[encoded data removed]",
      "text/latex": [
       "$$e^{- x^{2}}$$"
      ],
      "text/plain": [
       "   2\n",
       " -x \n",
       "ℯ   "
      ]
     },
     "execution_count": 128,
     "metadata": {},
     "output_type": "execute_result"
    }
   ],
   "source": [
    "inverse_fourier_transform(Fk, k, x)"
   ]
  },
  {
   "cell_type": "markdown",
   "metadata": {},
   "source": [
    "<br>_**Matrices:**_"
   ]
  },
  {
   "cell_type": "code",
   "execution_count": 306,
   "metadata": {},
   "outputs": [
    {
     "data": {
      "text/latex": [
       "$$\\left[\\begin{matrix}x\\\\y\\\\z\\end{matrix}\\right]$$"
      ],
      "text/plain": [
       "⎡x⎤\n",
       "⎢ ⎥\n",
       "⎢y⎥\n",
       "⎢ ⎥\n",
       "⎣z⎦"
      ]
     },
     "execution_count": 306,
     "metadata": {},
     "output_type": "execute_result"
    }
   ],
   "source": [
    "x, y, z = sy.symbols('x y z')\n",
    "sy.Matrix([x,y,z])"
   ]
  },
  {
   "cell_type": "code",
   "execution_count": 312,
   "metadata": {},
   "outputs": [
    {
     "data": {
      "text/latex": [
       "$$\\left[\\begin{matrix}- 3 x & 0 & 0 & 0\\\\0 & 1 & 1 & 0\\\\0 & 1 & 1 & 0\\\\0 & 0 & 0 & 3\\end{matrix}\\right]$$"
      ],
      "text/plain": [
       "⎡-3⋅x  0  0  0⎤\n",
       "⎢             ⎥\n",
       "⎢ 0    1  1  0⎥\n",
       "⎢             ⎥\n",
       "⎢ 0    1  1  0⎥\n",
       "⎢             ⎥\n",
       "⎣ 0    0  0  3⎦"
      ]
     },
     "execution_count": 312,
     "metadata": {},
     "output_type": "execute_result"
    }
   ],
   "source": [
    "sy.diag(-3*x, sy.ones(2, 2), 3)"
   ]
  },
  {
   "cell_type": "markdown",
   "metadata": {},
   "source": [
    "<br><a name=\"9\"></a>\n",
    "Go to: [[TOC]](#0) [[1]](#1) [[2]](#2) [[3]](#3) [[4]](#4) [[5]](#5) [[6]](#6) [[7]](#7) [[8]](#8) [[9]](#9) [[10]](#10) [[11]](#11)   \n",
    "***"
   ]
  },
  {
   "cell_type": "markdown",
   "metadata": {},
   "source": [
    "### **9. Vectors and Vector Calculus**"
   ]
  },
  {
   "cell_type": "code",
   "execution_count": 1,
   "metadata": {},
   "outputs": [],
   "source": [
    "import sympy as sy\n",
    "from sympy import symbols, exp, log, sqrt\n",
    "from sympy import init_printing\n",
    "init_printing()"
   ]
  },
  {
   "cell_type": "markdown",
   "metadata": {},
   "source": [
    "<br>_**Vectors:** We can also use vectors symbolically. First we need to define the coordinate system._ "
   ]
  },
  {
   "cell_type": "code",
   "execution_count": 2,
   "metadata": {},
   "outputs": [],
   "source": [
    "from sympy.physics.vector import *\n",
    "e = ReferenceFrame('e')\n",
    "x, y, z = sy.symbols('x y z')"
   ]
  },
  {
   "cell_type": "markdown",
   "metadata": {},
   "source": [
    "_Define a couple of vectors using the basis vectors defined in the coordinate system. SymPy assigns the symbols N.i, N.i, N.k to represent the unit vectors._"
   ]
  },
  {
   "cell_type": "code",
   "execution_count": 3,
   "metadata": {},
   "outputs": [
    {
     "data": {
      "image/png": "[encoded data removed]",
      "text/latex": [
       "$$2\\mathbf{\\hat{e}_x} + 3\\mathbf{\\hat{e}_y} - \\mathbf{\\hat{e}_z}$$"
      ],
      "text/plain": [
       "2 e_x + 3 e_y - e_z"
      ]
     },
     "execution_count": 3,
     "metadata": {},
     "output_type": "execute_result"
    }
   ],
   "source": [
    "u = 2*e.x + 3*e.y - e.z\n",
    "u"
   ]
  },
  {
   "cell_type": "code",
   "execution_count": 4,
   "metadata": {},
   "outputs": [
    {
     "data": {
      "image/png": "[encoded data removed]",
      "text/latex": [
       "$$9\\mathbf{\\hat{e}_x} - 2\\mathbf{\\hat{e}_y} + \\mathbf{\\hat{e}_z}$$"
      ],
      "text/plain": [
       "9 e_x + -2 e_y + e_z"
      ]
     },
     "execution_count": 4,
     "metadata": {},
     "output_type": "execute_result"
    }
   ],
   "source": [
    "v = 9*e.x - 2*e.y + e.z\n",
    "v"
   ]
  },
  {
   "cell_type": "code",
   "execution_count": 132,
   "metadata": {},
   "outputs": [
    {
     "data": {
      "image/png": "[encoded data removed]",
      "text/latex": [
       "$$11\\mathbf{\\hat{e}_x} + \\mathbf{\\hat{e}_y}$$"
      ],
      "text/plain": [
       "11 e_x + e_y"
      ]
     },
     "execution_count": 132,
     "metadata": {},
     "output_type": "execute_result"
    }
   ],
   "source": [
    "u + v"
   ]
  },
  {
   "cell_type": "markdown",
   "metadata": {},
   "source": [
    "_Calculate the vector dot product:_"
   ]
  },
  {
   "cell_type": "code",
   "execution_count": 133,
   "metadata": {},
   "outputs": [
    {
     "data": {
      "image/png": "[encoded data removed]",
      "text/latex": [
       "$$11$$"
      ],
      "text/plain": [
       "11"
      ]
     },
     "execution_count": 133,
     "metadata": {},
     "output_type": "execute_result"
    }
   ],
   "source": [
    "dot(u,v)"
   ]
  },
  {
   "cell_type": "code",
   "execution_count": 134,
   "metadata": {},
   "outputs": [
    {
     "data": {
      "image/png": "[encoded data removed]",
      "text/latex": [
       "$$\\mathbf{\\hat{e}_x} - 11\\mathbf{\\hat{e}_y} - 31\\mathbf{\\hat{e}_z}$$"
      ],
      "text/plain": [
       "e_x + -11 e_y + -31 e_z"
      ]
     },
     "execution_count": 134,
     "metadata": {},
     "output_type": "execute_result"
    }
   ],
   "source": [
    "cross(u,v)"
   ]
  },
  {
   "cell_type": "code",
   "execution_count": 135,
   "metadata": {},
   "outputs": [
    {
     "data": {
      "image/png": "[encoded data removed]",
      "text/latex": [
       "$$- \\mathbf{\\hat{e}_x} + 11\\mathbf{\\hat{e}_y} + 31\\mathbf{\\hat{e}_z}$$"
      ],
      "text/plain": [
       " - e_x + 11 e_y + 31 e_z"
      ]
     },
     "execution_count": 135,
     "metadata": {},
     "output_type": "execute_result"
    }
   ],
   "source": [
    "cross(v,u)"
   ]
  },
  {
   "cell_type": "code",
   "execution_count": 136,
   "metadata": {},
   "outputs": [
    {
     "data": {
      "image/png": "[encoded data removed]",
      "text/latex": [
       "$$\\frac{\\sqrt{14}}{7}\\mathbf{\\hat{e}_x} + \\frac{3 \\sqrt{14}}{14}\\mathbf{\\hat{e}_y} -  \\frac{\\sqrt{14}}{14}\\mathbf{\\hat{e}_z}$$"
      ],
      "text/plain": [
       "√14       3⋅√14       -√14\n",
       "─── e_x + ───── e_y + ───── e_z\n",
       " 7          14          14"
      ]
     },
     "execution_count": 136,
     "metadata": {},
     "output_type": "execute_result"
    }
   ],
   "source": [
    "u.normalize()"
   ]
  },
  {
   "cell_type": "markdown",
   "metadata": {},
   "source": [
    "<br>_**Vector Calculus:** SymPy is a little clunky with vector calculus. For these operations, when you define a vector field, you use the same symbols for the unit vectors (e.x, e.y, e.z), but you must use e[0], e[1], and e[3] to represent the coordinate variables x, y, and z. Using the '.subs()' operation, you can make it more visually intuitive. Defining a scalar function $f(x,y) = 3x^2y$ would be:_"
   ]
  },
  {
   "cell_type": "code",
   "execution_count": 137,
   "metadata": {},
   "outputs": [],
   "source": [
    "f = 3*(e[0]**2) * e[1]"
   ]
  },
  {
   "cell_type": "markdown",
   "metadata": {},
   "source": [
    "_We can make the function or any other expression below look normal by substituting with 'subs({e[0]:x,e[1]:y,e[2]:z})'_"
   ]
  },
  {
   "cell_type": "code",
   "execution_count": 138,
   "metadata": {},
   "outputs": [
    {
     "data": {
      "image/png": "[encoded data removed]",
      "text/latex": [
       "$$3 x^{2} y$$"
      ],
      "text/plain": [
       "   2  \n",
       "3⋅x ⋅y"
      ]
     },
     "execution_count": 138,
     "metadata": {},
     "output_type": "execute_result"
    }
   ],
   "source": [
    "f.subs({e[0]:x,e[1]:y,e[2]:z})"
   ]
  },
  {
   "cell_type": "markdown",
   "metadata": {},
   "source": [
    "_We now define a vector field ($\\overrightarrow{F}= x^2 \\, \\hat{e_x} + 3xy \\, \\hat{e_y} - z^2 \\, \\hat{e_z} \\,$) to examine some other vaector calculus operations:_"
   ]
  },
  {
   "cell_type": "code",
   "execution_count": 139,
   "metadata": {},
   "outputs": [
    {
     "data": {
      "image/png": "[encoded data removed]",
      "text/latex": [
       "$$x^{2}\\mathbf{\\hat{e}_x} + 3 x y\\mathbf{\\hat{e}_y} -  z^{2}\\mathbf{\\hat{e}_z}$$"
      ],
      "text/plain": [
       " 2                     2\n",
       "x  e_x + 3⋅x⋅y e_y + -z  e_z"
      ]
     },
     "execution_count": 139,
     "metadata": {},
     "output_type": "execute_result"
    }
   ],
   "source": [
    "F = (e[0]**2)*e.x + (3*e[0]*e[1])*e.y - (e[2]**2)*e.z\n",
    "F.subs({e[0]:x,e[1]:y,e[2]:z})"
   ]
  },
  {
   "cell_type": "code",
   "execution_count": 140,
   "metadata": {},
   "outputs": [
    {
     "data": {
      "image/png": "[encoded data removed]",
      "text/latex": [
       "$$2 x\\mathbf{\\hat{e}_x} + 3 y\\mathbf{\\hat{e}_y}$$"
      ],
      "text/plain": [
       "2⋅x e_x + 3⋅y e_y"
      ]
     },
     "execution_count": 140,
     "metadata": {},
     "output_type": "execute_result"
    }
   ],
   "source": [
    "F.diff(e[0],e).subs({e[0]:x,e[1]:y,e[2]:z})"
   ]
  },
  {
   "cell_type": "code",
   "execution_count": 141,
   "metadata": {},
   "outputs": [
    {
     "data": {
      "image/png": "[encoded data removed]",
      "text/latex": [
       "$$5 x - 2 z$$"
      ],
      "text/plain": [
       "5⋅x - 2⋅z"
      ]
     },
     "execution_count": 141,
     "metadata": {},
     "output_type": "execute_result"
    }
   ],
   "source": [
    "divergence(F,e).subs({e[0]:x,e[1]:y,e[2]:z})"
   ]
  },
  {
   "cell_type": "code",
   "execution_count": 142,
   "metadata": {},
   "outputs": [
    {
     "data": {
      "image/png": "[encoded data removed]",
      "text/latex": [
       "$$3 y\\mathbf{\\hat{e}_z}$$"
      ],
      "text/plain": [
       "3⋅y e_z"
      ]
     },
     "execution_count": 142,
     "metadata": {},
     "output_type": "execute_result"
    }
   ],
   "source": [
    "curl(F,e).subs({e[0]:x,e[1]:y,e[2]:z})"
   ]
  },
  {
   "cell_type": "markdown",
   "metadata": {},
   "source": [
    "<br>_**For more information about SymPy see the official documentaiton and tutorials:**_\n",
    "- https://www.sympy.org/en/index.html"
   ]
  },
  {
   "cell_type": "markdown",
   "metadata": {},
   "source": [
    "<br><a name=\"10\"></a>\n",
    "Go to: [[TOC]](#0) [[1]](#1) [[2]](#2) [[3]](#3) [[4]](#4) [[5]](#5) [[6]](#6) [[7]](#7) [[8]](#8) [[9]](#9) [[10]](#10) [[11]](#11)   \n",
    "***"
   ]
  },
  {
   "cell_type": "markdown",
   "metadata": {},
   "source": [
    "### **10. Data Science and Machine Learning**"
   ]
  },
  {
   "cell_type": "code",
   "execution_count": 169,
   "metadata": {},
   "outputs": [
    {
     "data": {
      "image/png": "[encoded data removed]",
      "text/plain": [
       "<Figure size 576x504 with 16 Axes>"
      ]
     },
     "metadata": {
      "needs_background": "light"
     },
     "output_type": "display_data"
    }
   ],
   "source": [
    "# Imports\n",
    "import pandas as pd\n",
    "from pandas.plotting import scatter_matrix\n",
    "import matplotlib.pyplot as plt\n",
    "from sklearn import model_selection\n",
    "from sklearn.metrics import classification_report\n",
    "from sklearn.metrics import confusion_matrix\n",
    "from sklearn.metrics import accuracy_score\n",
    "from sklearn.linear_model import LogisticRegression\n",
    "from sklearn.tree import DecisionTreeClassifier\n",
    "from sklearn.neighbors import KNeighborsClassifier\n",
    "from sklearn.discriminant_analysis import LinearDiscriminantAnalysis\n",
    "from sklearn.naive_bayes import GaussianNB\n",
    "from sklearn.svm import SVC\n",
    "\n",
    "# Load dataset\n",
    "url = \"https://archive.ics.uci.edu/ml/machine-learning-databases/iris/iris.data\"\n",
    "names = ['Sepal L', 'Sepal W', 'Petal L', 'Petal W', 'Class']\n",
    "dataset = pd.read_csv(url, names=names)\n",
    "\n",
    "# Look briefly at dataset\n",
    "scatter_matrix(dataset, figsize=(8,7), diagonal='hist')\n",
    "# scatter_matrix(dataset, diagonal='off')\n",
    "plt.show()"
   ]
  },
  {
   "cell_type": "code",
   "execution_count": 180,
   "metadata": {},
   "outputs": [
    {
     "name": "stdout",
     "output_type": "stream",
     "text": [
      "Logistic Regression (LR): 0.966667 (0.040825)\n",
      "Linear Discriminant Analysis (LDA): 0.975000 (0.038188)\n",
      "K-Neighbors Classifier (KNN): 0.983333 (0.033333)\n",
      "Decision Tree Classifier (CART): 0.983333 (0.033333)\n",
      "Gaussian NB (NB): 0.975000 (0.053359)\n",
      "SVC (SVM): 0.991667 (0.025000)\n"
     ]
    }
   ],
   "source": [
    "# Save test set for later\n",
    "array = dataset.values\n",
    "X = array[:,0:4]\n",
    "Y = array[:,4]\n",
    "validation_size = 0.20\n",
    "seed = 7\n",
    "X_train, X_validation, Y_train, Y_validation = model_selection.train_test_split(X, Y, test_size=validation_size, random_state=seed)\n",
    "\n",
    "# Test options and evaluation metric\n",
    "seed = 7\n",
    "scoring = 'accuracy'\n",
    "\n",
    "# use cross validation for inital algorithm comparison\n",
    "models = []\n",
    "models.append(('Logistic Regression (LR)', LogisticRegression()))\n",
    "models.append(('Linear Discriminant Analysis (LDA)', LinearDiscriminantAnalysis()))\n",
    "models.append(('K-Neighbors Classifier (KNN)', KNeighborsClassifier()))\n",
    "models.append(('Decision Tree Classifier (CART)', DecisionTreeClassifier()))\n",
    "models.append(('Gaussian NB (NB)', GaussianNB()))\n",
    "models.append(('SVC (SVM)', SVC()))\n",
    "\n",
    "# evaluate each model \n",
    "results = []\n",
    "names = []\n",
    "for name, model in models:\n",
    "    kfold = model_selection.KFold(n_splits=10, random_state=seed)\n",
    "    cv_results = model_selection.cross_val_score(model, X_train, Y_train, cv=kfold, scoring=scoring)\n",
    "    results.append(cv_results)\n",
    "    names.append(name)\n",
    "    msg = \"%s: %f (%f)\" % (name, cv_results.mean(), cv_results.std())\n",
    "    print(msg)"
   ]
  },
  {
   "cell_type": "code",
   "execution_count": 173,
   "metadata": {},
   "outputs": [
    {
     "data": {
      "image/png": "[encoded data removed]",
      "text/plain": [
       "<Figure size 432x288 with 1 Axes>"
      ]
     },
     "metadata": {
      "needs_background": "light"
     },
     "output_type": "display_data"
    }
   ],
   "source": [
    "# Compare Algorithms\n",
    "fig = plt.figure()\n",
    "fig.suptitle('Algorithm Comparison')\n",
    "ax = fig.add_subplot(111)\n",
    "plt.boxplot(results)\n",
    "ax.set_xticklabels(names)\n",
    "plt.xlabel('Model')\n",
    "plt.ylabel('Accuracy')\n",
    "plt.title('K-fold Classification Accuracy')\n",
    "plt.show()"
   ]
  },
  {
   "cell_type": "code",
   "execution_count": 174,
   "metadata": {},
   "outputs": [
    {
     "name": "stdout",
     "output_type": "stream",
     "text": [
      "0.9333333333333333\n",
      "[[ 7  0  0]\n",
      " [ 0 10  2]\n",
      " [ 0  0 11]]\n",
      "                 precision    recall  f1-score   support\n",
      "\n",
      "    Iris-setosa       1.00      1.00      1.00         7\n",
      "Iris-versicolor       1.00      0.83      0.91        12\n",
      " Iris-virginica       0.85      1.00      0.92        11\n",
      "\n",
      "    avg / total       0.94      0.93      0.93        30\n",
      "\n"
     ]
    }
   ],
   "source": [
    "# Make predictions on test set\n",
    "svm2 = SVC()\n",
    "svm2.fit(X_train, Y_train)\n",
    "predictions = svm2.predict(X_validation)\n",
    "print(accuracy_score(Y_validation, predictions))\n",
    "print(confusion_matrix(Y_validation, predictions))\n",
    "print(classification_report(Y_validation, predictions))"
   ]
  },
  {
   "cell_type": "markdown",
   "metadata": {},
   "source": [
    "<br>_**More Information on Machine Learning:**_\n",
    "- UC Irvine Machine Learning Repository - They have lots of data sets that can be used to play with.\n",
    "   - https://archive.ics.uci.edu/ml/index.php\n"
   ]
  },
  {
   "cell_type": "markdown",
   "metadata": {},
   "source": [
    "<br><a name=\"11\"></a>\n",
    "Go to: [[TOC]](#0) [[1]](#1) [[2]](#2) [[3]](#3) [[4]](#4) [[5]](#5) [[6]](#6) [[7]](#7) [[8]](#8) [[9]](#9) [[10]](#10) [[11]](#11)   \n",
    "***"
   ]
  },
  {
   "cell_type": "markdown",
   "metadata": {},
   "source": [
    "### **11. More Exploration**"
   ]
  },
  {
   "cell_type": "markdown",
   "metadata": {},
   "source": [
    "<br>_**Getting Help**:_\n",
    "\n",
    "- _Tab Completion - If you know what the function you are looking for starts with, like 'np.' or 'np.s', then, with the cursor just to the right of your text, press the tab key to see what functions are availible that begin with what you typed._\n",
    "- _Docstrings - Python and Jupyter Notebooks will display the docstring (full documentation) is you put a question mark after a function name. For instance, enter 'np.sin?' then press shift-enter._\n",
    "- _There are a lot of online resources for help with all your Python questions, but probably none as useful as Stack Overflow. There are literally millions of programmers and developers that post questions and answers on Stack Overflow._\n",
    "   - https://stackoverflow.com/"
   ]
  },
  {
   "cell_type": "markdown",
   "metadata": {},
   "source": [
    "_**Keyboard Shortcuts:**_ Keyboard shortcuts can be used in command mode. You can toggle into (press Esc) and out of (press Enter) command mode. The following are useful shortcuts in command-mode after pressing they Esc key:_\n",
    "   - Press 'M' to change the current cell to Markdown, 'Y' to change it back to code\n",
    "   - Press 'A' to insert a new cell above the current cell, 'B' to insert a new cell below\n",
    "   - Press 'D D' (press D twice) to delete the current cell\n",
    "   - Press Alt-Enter to execute the current cell and insert a new cell below (this works in command-mode and edit-mode)"
   ]
  },
  {
   "cell_type": "markdown",
   "metadata": {},
   "source": [
    "<br>_**Links for Exploration**_\n",
    "- _Awesome Python - A curated collection of cool or useful Python packages and code snipbits:_\n",
    "     - https://awesome-python.com/\n",
    "- _Awesome Python Education - A curated collection of cool or useful Python packages and code snipbits to help you learn:_\n",
    "     - https://github.com/quobit/awesome-python-in-education#jupyter\n",
    "- _Awesome Python Chemistry - A curated list of awesome Python frameworks, libraries, software and resources related to Chemistry._\n",
    "     - https://github.com/lmmentel/awesome-python-chemistry\n",
    "- _Find other Python packages:_\n",
    "     - https://pypi.org/\n",
    "- _Tips, Tricks, and Shortcuts for Jupyter Notebooks:_\n",
    "     - https://www.dataquest.io/blog/jupyter-notebook-tips-tricks-shortcuts/\n",
    "- _A gallery of interesting Jupyter Notebooks:_\n",
    "     - https://github.com/jupyter/jupyter/wiki/A-gallery-of-interesting-Jupyter-Notebooks#physics-chemistry-and-biology"
   ]
  },
  {
   "cell_type": "markdown",
   "metadata": {},
   "source": [
    "<br>_**Installation of a Local Python Interpretter and Jupyter Notebook:**_ You may be using this notebook on Microspft Azure or another program, but having a local installation is a lot faster and easier to use to work with your local data.\n",
    "\n",
    "- _Anaconda is a popular Python and Jupyter Notebook distribution package that is easy to install and easy to use. It comes with all the common Python libraries used above:_\n",
    "     - https://www.anaconda.com/download/\n",
    "- _If you primarily use striaght python script files, Spyder, which is installed with the Anaconda distribution is a great choice for a local programming environment._\n",
    "- _If you want to use Jupyter Notebooks, then \"Jupyter Lab\" is a great choice. It is a user interface and programming environment for Jupyter Notebooks. To install Jupyter Lab locally on your machine, first install Anaconda, and then from an Anaconda prompt (run as administrator) type 'conda install -c conda-forge jupyterlab'. After the installation is complete, open an Anaconda prompt, go to the directory you want to start in (using 'cd' and 'dir' as needed) and then type 'jupyter lab':_\n",
    "     - Video of Jupyter developers giving an overview: https://www.youtube.com/watch?v=Gzun8PpyBCo\n",
    "     - Awesome Jupyter Lab - A curated list of extensions for Jupyter Lab: https://github.com/mauhai/awesome-jupyterlab"
   ]
  },
  {
   "cell_type": "markdown",
   "metadata": {},
   "source": [
    "<br><a name=\"End\"></a>\n",
    "Go to: [[TOC]](#0) [[1]](#1) [[2]](#2) [[3]](#3) [[4]](#4) [[5]](#5) [[6]](#6) [[7]](#7) [[8]](#8) [[9]](#9) [[10]](#10) [[11]](#11)   \n",
    "***"
   ]
  }
 ],
 "metadata": {
  "kernelspec": {
   "display_name": "Python 3",
   "language": "python",
   "name": "python3"
  },
  "language_info": {
   "codemirror_mode": {
    "name": "ipython",
    "version": 3
   },
   "file_extension": ".py",
   "mimetype": "text/x-python",
   "name": "python",
   "nbconvert_exporter": "python",
   "pygments_lexer": "ipython3",
   "version": "3.7.0"
  }
 },
 "nbformat": 4,
 "nbformat_minor": 2
}
